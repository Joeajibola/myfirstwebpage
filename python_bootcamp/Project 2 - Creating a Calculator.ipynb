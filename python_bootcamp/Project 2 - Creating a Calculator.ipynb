{
 "cells": [
  {
   "cell_type": "markdown",
   "metadata": {},
   "source": [
    "# Creating a Calculator"
   ]
  },
  {
   "cell_type": "code",
   "execution_count": 12,
   "metadata": {},
   "outputs": [
    {
     "name": "stdout",
     "output_type": "stream",
     "text": [
      "Would you like to add/subtract/multiply/divide? multiply\n",
      "You chose multiply\n",
      "Enter the first number: 2\n",
      "Enter the second number: 5\n",
      "First number: 2\n",
      "Second number: 5\n",
      "Would you like to reverse the placement of the numbers? no\n",
      "New first number: 2\n",
      "New second number: 5\n",
      "2.0 * 5.0 = 10.0\n"
     ]
    }
   ],
   "source": [
    "# ask the user for the operation they would like to perform\n",
    "operation = input(\"Would you like to add/subtract/multiply/divide? \").lower()\n",
    "print(\"You chose {}\".format(operation))\n",
    "\n",
    "# alert the user that order of numbers matter for subtracting and dividing\n",
    "if operation == \"subtract\" or operation == \"divide\":\n",
    "    print(\"Please bear in mind that the order of the numbers matter.\")\n",
    "    \n",
    "# ask the user to input the numbers they would like to perform operation on\n",
    "num1 = input(\"Enter the first number: \")\n",
    "num2 = input(\"Enter the second number: \")\n",
    "print(\"First number: {}\".format(num1))\n",
    "print(\"Second number: {}\".format(num2))\n",
    "\n",
    "# ask the user if they would like to reverse the placement of their numbers\n",
    "response = input(\"Would you like to reverse the placement of the numbers? \")\n",
    "if response == \"yes\":\n",
    "    num3 = num1\n",
    "    num1 = num2\n",
    "    num2 = num3\n",
    "    \n",
    "print(\"New first number: {}\".format(num1))\n",
    "print(\"New second number: {}\".format(num2))\n",
    "\n",
    "# use the try/except clause to perform the operations\n",
    "try:\n",
    "    # convert the numbers type to float\n",
    "    num1, num2 = float(num1), float(num2)\n",
    "    # perform the operation\n",
    "    if operation == \"add\":\n",
    "        result = num1 + num2\n",
    "        print(\"{} + {} = {}\".format(num1, num2, result))\n",
    "    elif operation == \"subtract\":\n",
    "        result = num1 - num2\n",
    "        print(\"{} - {} = {}\".format(num1, num2, result))\n",
    "    elif operation == \"multiply\":\n",
    "        result = num1 * num2\n",
    "        print(\"{} * {} = {}\".format(num1, num2, result))\n",
    "    elif operation == \"divide\":\n",
    "        result = num1 / num2\n",
    "        print(\"{} / {} = {}\".format(num1, num2, result))\n",
    "    else:\n",
    "        print(\"Sorry but {} is not an option.\".format(operation))\n",
    "except:\n",
    "    print(\"Improper numbers used. Please try again\")"
   ]
  },
  {
   "cell_type": "code",
   "execution_count": null,
   "metadata": {},
   "outputs": [],
   "source": []
  }
 ],
 "metadata": {
  "kernelspec": {
   "display_name": "Python 3",
   "language": "python",
   "name": "python3"
  },
  "language_info": {
   "codemirror_mode": {
    "name": "ipython",
    "version": 3
   },
   "file_extension": ".py",
   "mimetype": "text/x-python",
   "name": "python",
   "nbconvert_exporter": "python",
   "pygments_lexer": "ipython3",
   "version": "3.8.5"
  }
 },
 "nbformat": 4,
 "nbformat_minor": 4
}

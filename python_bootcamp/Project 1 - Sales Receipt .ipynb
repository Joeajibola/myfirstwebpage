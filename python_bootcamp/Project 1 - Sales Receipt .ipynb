{
 "cells": [
  {
   "cell_type": "markdown",
   "metadata": {},
   "source": [
    "# Sales Receipt"
   ]
  },
  {
   "cell_type": "code",
   "execution_count": 1,
   "metadata": {},
   "outputs": [
    {
     "name": "stdout",
     "output_type": "stream",
     "text": [
      "*************************************************\n",
      "*\t\tCoding Temple Inc.\t\t*\n",
      "*\t\t283 Franklin St.\t\t*\n",
      "*\t\tBoston, MA\t\t\t*\n",
      "=================================================\n",
      "*\tProduct Name\tProduct Price\t\t*\n",
      "*\tBooks\t\t$49.95\t\t\t*\n",
      "*\tComputer\t$579.99\t\t\t*\n",
      "*\tMonitor\t\t$124.89\t\t\t*\n",
      "=================================================\n",
      "*\t\t\tTotal\t\t\t*\n",
      "*\t\t\t$754.83\t\t\t*\n",
      "=================================================\n",
      "*\t\t\t\t\t\t*\n",
      "*\tThanks for shopping with us today\t*\n",
      "*\t\t\t\t\t\t*\n",
      "*************************************************\n"
     ]
    }
   ],
   "source": [
    "# declaring the variables\n",
    "company_name = \"Coding Temple Inc.\"\n",
    "company_address = \"283 Franklin St.\"\n",
    "company_city = \"Boston, MA\"\n",
    "p1_name = \"Books\"\n",
    "p2_name = \"Computer\"\n",
    "p3_name = \"Monitor\"\n",
    "p1_price = 49.95\n",
    "p2_price = 579.99\n",
    "p3_price = 124.89\n",
    "Total = p1_price + p2_price + p3_price\n",
    "end_message = \"Thanks for shopping with us today\"\n",
    "\n",
    "# putting the top border\n",
    "print(\"*\" * 49)\n",
    "\n",
    "# putting the company name address and city\n",
    "print(\"*\"\"\\t\\t{}\"\"\\t\\t*\".format(company_name))\n",
    "print(\"*\"\"\\t\\t{}\"\"\\t\\t*\".format(company_address))\n",
    "print(\"*\"\"\\t\\t{}\"\"\\t\\t\\t*\".format(company_city))\n",
    "\n",
    "# put a dividing section\n",
    "print(\"=\" * 49)\n",
    "\n",
    "# putting the product name and product price\n",
    "print(\"*\"\"\\tProduct Name\"\"\\tProduct Price\"\"\\t\\t*\")\n",
    "\n",
    "# putting the values of product name and price\n",
    "print(\"*\"\"\\t{}\"\"\\t\\t${}\"\"\\t\\t\\t*\".format(p1_name, p1_price))\n",
    "print(\"*\"\"\\t{}\"\"\\t${}\"\"\\t\\t\\t*\".format(p2_name, p2_price))\n",
    "print(\"*\"\"\\t{}\"\"\\t\\t${}\"\"\\t\\t\\t*\".format(p3_name, p3_price))\n",
    "\n",
    "# put a dividing section\n",
    "print(\"=\" * 49)\n",
    "\n",
    "# put the total price\n",
    "print(\"*\"\"\\t\\t\\tTotal\"\"\\t\\t\\t*\")\n",
    "print(\"*\"\"\\t\\t\\t${}\"\"\\t\\t\\t*\".format(Total))\n",
    "\n",
    "# put a dividing section\n",
    "print(\"=\" * 49)\n",
    "\n",
    "# putting the end message\n",
    "print(\"*\"\"\\t\\t\\t\\t\\t\\t*\")\n",
    "print(\"*\"\"\\t{}\"\"\\t*\".format(end_message))\n",
    "print(\"*\"\"\\t\\t\\t\\t\\t\\t*\")\n",
    "\n",
    "# putting the bottom border\n",
    "print(\"*\" * 49)"
   ]
  },
  {
   "cell_type": "code",
   "execution_count": null,
   "metadata": {},
   "outputs": [],
   "source": []
  },
  {
   "cell_type": "code",
   "execution_count": null,
   "metadata": {},
   "outputs": [],
   "source": []
  }
 ],
 "metadata": {
  "kernelspec": {
   "display_name": "Python 3",
   "language": "python",
   "name": "python3"
  },
  "language_info": {
   "codemirror_mode": {
    "name": "ipython",
    "version": 3
   },
   "file_extension": ".py",
   "mimetype": "text/x-python",
   "name": "python",
   "nbconvert_exporter": "python",
   "pygments_lexer": "ipython3",
   "version": "3.8.5"
  }
 },
 "nbformat": 4,
 "nbformat_minor": 4
}

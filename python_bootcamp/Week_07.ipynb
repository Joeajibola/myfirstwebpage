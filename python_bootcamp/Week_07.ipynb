{
 "cells": [
  {
   "cell_type": "markdown",
   "metadata": {},
   "source": [
    "# Week 07\n",
    "## Challenge Question"
   ]
  },
  {
   "cell_type": "code",
   "execution_count": 3,
   "metadata": {},
   "outputs": [
    {
     "name": "stdout",
     "output_type": "stream",
     "text": [
      "10\n"
     ]
    }
   ],
   "source": [
    "# check to see what the output will be\n",
    "values = {4:4, 8:8, \"Q\":10, \"ACE\": 11}\n",
    "card = (\"Q\", \"Hearts\")\n",
    "print(\"{}\".format(values[card[0]]))"
   ]
  },
  {
   "cell_type": "markdown",
   "metadata": {},
   "source": [
    "# Monday\n",
    "## Creating and Instantiating a Class"
   ]
  },
  {
   "cell_type": "code",
   "execution_count": 4,
   "metadata": {},
   "outputs": [],
   "source": [
    "# creating your first class\n",
    "class Car():\n",
    "    pass    # simply using as a placeholder until we add more code tommorow"
   ]
  },
  {
   "cell_type": "code",
   "execution_count": 6,
   "metadata": {},
   "outputs": [
    {
     "name": "stdout",
     "output_type": "stream",
     "text": [
      "<__main__.Car object at 0x000001C6C04450A0>\n"
     ]
    }
   ],
   "source": [
    "# instantiating an object from a class\n",
    "class car():      # parenthesis are optional here\n",
    "    pass\n",
    "ford = Car()   # creates an instance of the Car class and stores into the variable ford\n",
    "print(ford)"
   ]
  },
  {
   "cell_type": "code",
   "execution_count": 7,
   "metadata": {},
   "outputs": [
    {
     "name": "stdout",
     "output_type": "stream",
     "text": [
      "122071303470\n",
      "122071303431\n"
     ]
    }
   ],
   "source": [
    "# instantiating multiple objects from the same class\n",
    "class Car():\n",
    "    pass\n",
    "ford = Car()\n",
    "subaru = Car()   # creates another object from the Car class\n",
    "print(hash(ford))\n",
    "print(hash(subaru))  # hash outputs a numerical representation of the location in memory for the variable"
   ]
  },
  {
   "cell_type": "markdown",
   "metadata": {},
   "source": [
    "## Monday Exercises"
   ]
  },
  {
   "cell_type": "code",
   "execution_count": 10,
   "metadata": {},
   "outputs": [
    {
     "name": "stdout",
     "output_type": "stream",
     "text": [
      "122071303602\n",
      "<__main__.Animals object at 0x000001C6C0445BE0>\n"
     ]
    }
   ],
   "source": [
    "# creating a class Animals and creating two instances from it\n",
    "class Animals():\n",
    "    pass\n",
    "lion = Animals()\n",
    "tiger = Animals()\n",
    "print(hash(lion))\n",
    "print(tiger)"
   ]
  },
  {
   "cell_type": "code",
   "execution_count": 19,
   "metadata": {},
   "outputs": [
    {
     "name": "stdout",
     "output_type": "stream",
     "text": [
      "<__main__.Bus object at 0x000001C6C0445F40>\n"
     ]
    }
   ],
   "source": [
    "# class may or may not have parenthesis\n",
    "class Bus:\n",
    "    pass\n",
    "school_bus = Bus()\n",
    "print(school_bus)"
   ]
  },
  {
   "cell_type": "markdown",
   "metadata": {},
   "source": [
    "# Tuesday\n",
    "## Attributes"
   ]
  },
  {
   "cell_type": "code",
   "execution_count": 16,
   "metadata": {},
   "outputs": [
    {
     "name": "stdout",
     "output_type": "stream",
     "text": [
      "red\n",
      "beep\n"
     ]
    }
   ],
   "source": [
    "# how to define a class attribute\n",
    "class Car():\n",
    "    sound = \"beep\"   # all car objects will have this sound attribute and it's value\n",
    "    color = \"red\"    # all car objects will have this color attribute and it's value\n",
    "ford = Car()\n",
    "print(ford.color)    # known as 'dot syntax'\n",
    "print(ford.sound)"
   ]
  },
  {
   "cell_type": "code",
   "execution_count": 21,
   "metadata": {},
   "outputs": [
    {
     "name": "stdout",
     "output_type": "stream",
     "text": [
      "beep\n",
      "honk\n"
     ]
    }
   ],
   "source": [
    "# changing the value of an attribute\n",
    "class Car():\n",
    "    sound = 'beep'\n",
    "    color = 'red'\n",
    "ford = Car()\n",
    "print(ford.sound)    # will output 'beep'\n",
    "ford.sound = 'honk'  # the value of fords sound is now honk and it does not affect other instances\n",
    "print(ford.sound)"
   ]
  },
  {
   "cell_type": "code",
   "execution_count": 1,
   "metadata": {},
   "outputs": [
    {
     "name": "stdout",
     "output_type": "stream",
     "text": [
      "blue\n"
     ]
    }
   ],
   "source": [
    "# using the init method to give instances personalized attributes upon creation\n",
    "class Car():\n",
    "    def __init__(self, color):\n",
    "        self.color = color   # sets the attribute color to the value passed in\n",
    "ford = Car('blue')   # instantiating a Car class with the color blue\n",
    "print(ford.color)"
   ]
  },
  {
   "cell_type": "code",
   "execution_count": 1,
   "metadata": {},
   "outputs": [
    {
     "name": "stdout",
     "output_type": "stream",
     "text": [
      "Blue 2016\n",
      "Red 2018\n"
     ]
    }
   ],
   "source": [
    "# defining different values for multiple instances\n",
    "class Car():\n",
    "    def __init__(self, color, year):\n",
    "        self.color = color  # sets the attribute color to the value passed in\n",
    "        self.year = year    \n",
    "        \n",
    "ford = Car(\"Blue\", 2016)  # create a car object with the color blue and year 2016\n",
    "subaru = Car(\"Red\", 2018)\n",
    "        \n",
    "print(ford.color, ford.year)\n",
    "print(subaru.color, subaru.year)"
   ]
  },
  {
   "cell_type": "code",
   "execution_count": 2,
   "metadata": {},
   "outputs": [
    {
     "name": "stdout",
     "output_type": "stream",
     "text": [
      "beep\n",
      "beep blue\n"
     ]
    }
   ],
   "source": [
    "# using and accessing global class attributes\n",
    "class Car():\n",
    "    sound = 'beep' # global attribute, accessible through the class itself\n",
    "    def __init__(self, color):\n",
    "        self.color = 'blue'  # instance specific attribute, not accessible through the class itself\n",
    "print(Car.sound)\n",
    "# print(Car.color) won't work, as color is only available to instances of the Car class, not the class itself\n",
    "\n",
    "ford = Car('blue')\n",
    "print(ford.sound, ford.color)  # color will work as this is an instance"
   ]
  },
  {
   "cell_type": "markdown",
   "metadata": {},
   "source": [
    "## Tuesday Exercises"
   ]
  },
  {
   "cell_type": "code",
   "execution_count": 8,
   "metadata": {},
   "outputs": [
    {
     "name": "stdout",
     "output_type": "stream",
     "text": [
      "Canine\n",
      "Sammi Husky\n",
      "Casey Chocolate Lab\n"
     ]
    }
   ],
   "source": [
    "# create a Dog class with one global and two instance level attributes\n",
    "class Dog():\n",
    "    species = 'Canine'  # global attribute\n",
    "    def __init__(self, name, breed):  # instance level attributes\n",
    "        self.name = name\n",
    "        self.breed = breed\n",
    "num1 = Dog('Sammi', 'Husky')\n",
    "num2 = Dog('Casey', 'Chocolate Lab')\n",
    "print(num1.species)\n",
    "print(num1.name, num1.breed)\n",
    "print(num2.name, num2.breed)\n"
   ]
  },
  {
   "cell_type": "code",
   "execution_count": 2,
   "metadata": {},
   "outputs": [
    {
     "name": "stdout",
     "output_type": "stream",
     "text": [
      "What is your name? Joseph\n",
      "Your name is Joseph\n"
     ]
    }
   ],
   "source": [
    "# a Person class with a single instance level attribute that prints out user input\n",
    "class Person():\n",
    "    def __init__(self, name):\n",
    "        self.name = name\n",
    "name = input(\"What is your name? \")\n",
    "ans = Person(name)\n",
    "print(\"Your name is {}\".format(ans.name))"
   ]
  },
  {
   "cell_type": "markdown",
   "metadata": {},
   "source": [
    " # Wednesday\n",
    " \n",
    " ## Methods\n"
   ]
  },
  {
   "cell_type": "code",
   "execution_count": 9,
   "metadata": {},
   "outputs": [
    {
     "name": "stdout",
     "output_type": "stream",
     "text": [
      "bark\n"
     ]
    }
   ],
   "source": [
    "# defining and calling our first class method\n",
    "class Dog():\n",
    "    def makeSound(self):\n",
    "        print('bark')\n",
    "sam = Dog()\n",
    "sam.makeSound()"
   ]
  },
  {
   "cell_type": "code",
   "execution_count": 12,
   "metadata": {},
   "outputs": [
    {
     "name": "stdout",
     "output_type": "stream",
     "text": [
      "bark\n"
     ]
    }
   ],
   "source": [
    "# using the self keyword to access attributes within the class methods\n",
    "class Dog():\n",
    "    sound = 'bark'\n",
    "    def makeSound(self):\n",
    "        print(self.sound) # self required to access attributes defined in the class\n",
    "\n",
    "sam = Dog()\n",
    "sam.makeSound()"
   ]
  },
  {
   "cell_type": "code",
   "execution_count": 13,
   "metadata": {},
   "outputs": [
    {
     "name": "stdout",
     "output_type": "stream",
     "text": [
      "I am a dog.\n",
      "bark\n"
     ]
    }
   ],
   "source": [
    "# understanding which methods are accessible via the class itself and class instances\n",
    "class Dog():\n",
    "    sound = \"bark\"\n",
    "    def makeSound(self):\n",
    "        print(self.sound)\n",
    "    def printInfo():\n",
    "        print(\"I am a dog.\")\n",
    "Dog.printInfo()   # able to run printInfo because it does not include self parameter\n",
    "# Dog.makeSound()  would produce error self is in reference to instance only\n",
    "sam = Dog()\n",
    "sam.makeSound()   # able to access, self can reference the instance of sam\n",
    "# sam.printInfo   will produce error, instances require the self parameter to access methods"
   ]
  },
  {
   "cell_type": "code",
   "execution_count": 14,
   "metadata": {},
   "outputs": [
    {
     "name": "stdout",
     "output_type": "stream",
     "text": [
      "6\n"
     ]
    }
   ],
   "source": [
    "# writing methods that accept parameters\n",
    "class Dog():\n",
    "    def showAge(self, age):\n",
    "        print(age)  # does not need self, age is referencing the parameter not an attribute\n",
    "sam = Dog()\n",
    "sam.showAge(6)  # passing the integer 6 as an argument to the showAge method  "
   ]
  },
  {
   "cell_type": "code",
   "execution_count": 15,
   "metadata": {},
   "outputs": [
    {
     "name": "stdout",
     "output_type": "stream",
     "text": [
      "Sammi\n"
     ]
    }
   ],
   "source": [
    "# using methods to set or return attribute values, proper programming practice\n",
    "class Dog():\n",
    "    name = ''  # would normally use init method to declare, this is for testing purposes\n",
    "    def setName(self, new_name):\n",
    "        self.name = new_name   # declares the new value for the name attribute\n",
    "    def getName(self):\n",
    "        return self.name   # returns the value of the name attribute\n",
    "sam = Dog()\n",
    "sam.setName('Sammi')\n",
    "print(sam.getName())    # prints the returned value of self.name"
   ]
  },
  {
   "cell_type": "code",
   "execution_count": 17,
   "metadata": {},
   "outputs": [
    {
     "name": "stdout",
     "output_type": "stream",
     "text": [
      "6\n"
     ]
    }
   ],
   "source": [
    "# incrementing/decrementing attribute values with methods, best programming practice\n",
    "class Dog():\n",
    "    age = 5\n",
    "    def happyBirthday(self):\n",
    "        self.age += 1\n",
    "sam = Dog()\n",
    "sam.happyBirthday()   # calls method to increment value by one\n",
    "print(sam.age)   # better practice use getters, this is for testing purposes"
   ]
  },
  {
   "cell_type": "code",
   "execution_count": 3,
   "metadata": {},
   "outputs": [
    {
     "name": "stdout",
     "output_type": "stream",
     "text": [
      "Puppy!\n"
     ]
    }
   ],
   "source": [
    "# calling a class method from another method\n",
    "class Dog():\n",
    "    age = 6\n",
    "    def getAge(self):\n",
    "        return self.age\n",
    "    def printInfo(self):\n",
    "        if self.getAge() < 20:  # need self to call other method for an instance\n",
    "            print(\"Puppy!\")\n",
    "sam = Dog()\n",
    "sam.printInfo()"
   ]
  },
  {
   "cell_type": "code",
   "execution_count": 5,
   "metadata": {},
   "outputs": [
    {
     "name": "stdout",
     "output_type": "stream",
     "text": [
      "This is a dog class\n"
     ]
    }
   ],
   "source": [
    "# using magic methods\n",
    "class Dog():\n",
    "    def __str__(self):\n",
    "        return \"This is a dog class\"\n",
    "sam = Dog()\n",
    "print(sam)   # will print the return of the string magic method"
   ]
  },
  {
   "cell_type": "markdown",
   "metadata": {},
   "source": [
    "## Wednesday Exercises"
   ]
  },
  {
   "cell_type": "code",
   "execution_count": 24,
   "metadata": {},
   "outputs": [
    {
     "data": {
      "text/plain": [
       "'Feline'"
      ]
     },
     "execution_count": 24,
     "metadata": {},
     "output_type": "execute_result"
    }
   ],
   "source": [
    "# creating a class definition of an animal that has a species attribute and both a setter and getter to change or access the attribute's value\n",
    "class Animal():\n",
    "    def __init__(self):\n",
    "        species = ''\n",
    "    def setSpecies(self, species):\n",
    "        self.species = species\n",
    "    def getSpecies(self):\n",
    "        return self.species\n",
    "lion = Animal()\n",
    "lion.setSpecies('Feline')\n",
    "lion.getSpecies()"
   ]
  },
  {
   "cell_type": "code",
   "execution_count": 6,
   "metadata": {},
   "outputs": [
    {
     "name": "stdout",
     "output_type": "stream",
     "text": [
      "How old are you? 13\n",
      "You are 13 years old\n"
     ]
    }
   ],
   "source": [
    "# create a class person taht takes in a name when instantiated, but sets an age to 0. Also set up a setter and getter that ask user to input their age and set age attribute to the value input\n",
    "class Person():\n",
    "    def __init__(self, name):\n",
    "        self.name = name\n",
    "        self.age = 0\n",
    "    def setAge(self, age):\n",
    "        self.age = age\n",
    "    def getAge(self):\n",
    "        return self.age\n",
    "p = Person('Kathy')\n",
    "num = input('How old are you? ')\n",
    "\n",
    "p.setAge(num)\n",
    "print('You are {} years old'.format(p.getAge()))"
   ]
  },
  {
   "cell_type": "markdown",
   "metadata": {},
   "source": [
    "# Thursday\n",
    "## Inheritance"
   ]
  },
  {
   "cell_type": "code",
   "execution_count": 7,
   "metadata": {},
   "outputs": [
    {
     "name": "stdout",
     "output_type": "stream",
     "text": [
      "roar\n",
      "Canine\n"
     ]
    }
   ],
   "source": [
    "# inheriting a class and accessing the inherited method\n",
    "class Animal():\n",
    "    def makeSound(self):\n",
    "        print('roar')\n",
    "class Dog(Animal):    # inheriting Animal class\n",
    "    species = 'Canine'\n",
    "sam = Dog()\n",
    "sam.makeSound()\n",
    "print(sam.species)\n",
    "lion = Animal()\n",
    "# lion.species     not accessible, inheritance does not work backwards"
   ]
  },
  {
   "cell_type": "code",
   "execution_count": 10,
   "metadata": {},
   "outputs": [
    {
     "name": "stdout",
     "output_type": "stream",
     "text": [
      "Canine\n"
     ]
    }
   ],
   "source": [
    "# using the super() method to declare inherited attributes\n",
    "class Animal():\n",
    "    def __init__(self, species):\n",
    "        self.species = species\n",
    "class Dog(Animal):\n",
    "    def __init__(self, species, name):\n",
    "        self.name = name\n",
    "        super().__init__(species)  # using super to declare the species attribute defined in Animal\n",
    "\n",
    "sam = Dog(\"Canine\", \"Sammi\")\n",
    "print(sam.species)"
   ]
  },
  {
   "cell_type": "code",
   "execution_count": 14,
   "metadata": {},
   "outputs": [
    {
     "name": "stdout",
     "output_type": "stream",
     "text": [
      "bark\n",
      "roar\n"
     ]
    }
   ],
   "source": [
    "# overriding methods defined in the superclass\n",
    "class Animal():\n",
    "    def makeSound(self):\n",
    "        print(\"roar\")\n",
    "class Dog(Animal):\n",
    "    def makeSound(self):\n",
    "        print(\"bark\")\n",
    "sam, lion = Dog(), Animal()  # declaring multiple variables on a single line\n",
    "\n",
    "sam.makeSound()  # overriding will call the makeSound method in Dog\n",
    "lion.makeSound() # no overriding occurs as Animal does not inherit anything"
   ]
  },
  {
   "cell_type": "code",
   "execution_count": 15,
   "metadata": {},
   "outputs": [
    {
     "name": "stdout",
     "output_type": "stream",
     "text": [
      "9.8 Ford\n"
     ]
    }
   ],
   "source": [
    "# how to inherit multiple classes\n",
    "class Physics():\n",
    "    gravity = 9.8\n",
    "class Automobile():\n",
    "    def __init__(self, make, model, year):\n",
    "        self.make, self.model, self.year = make, model, year\n",
    "        # declaring all attributes in one line\n",
    "class Ford(Physics, Automobile): # able to access Physics and Automobile attributes and methods\n",
    "    def __init__(self, model, year):\n",
    "        Automobile.__init__(self, \"Ford\", model, year)  # super does not work with multiple super classes\n",
    "\n",
    "truck = Ford(\"F-150\", 2018)\n",
    "print(truck.gravity, truck.make)  # outputs both attributes"
   ]
  },
  {
   "cell_type": "markdown",
   "metadata": {},
   "source": [
    "## Thursday Exercises"
   ]
  },
  {
   "cell_type": "code",
   "execution_count": 21,
   "metadata": {},
   "outputs": [
    {
     "name": "stdout",
     "output_type": "stream",
     "text": [
      "Hello, my name is Max and I'm on the good guys\n",
      "Hello, my name is Tony and I'm on the bad guys\n"
     ]
    }
   ],
   "source": [
    "class Characters():\n",
    "    def __init__(self, name, team, height, weight):\n",
    "        self.name, self.team, self.height, self.weight = name, team, height, weight\n",
    "    def sayHello(self):\n",
    "        print(\"Hello, my name is {} and I'm on the {} guys\".format(self.name, self.team))\n",
    "class Good(Characters):\n",
    "    def __init__(self, name, height, weight):\n",
    "        super().__init__(name, 'good', height, weight)\n",
    "\n",
    "class Bad(Characters):\n",
    "    def __init__(self, name, height, weight):\n",
    "        super().__init__(name, 'bad', height, weight)\n",
    "\n",
    "char1 = Good('Max', '5 ft', '40 kg')\n",
    "char2 = Bad('Tony', '6 ft', '45 kg')\n",
    "\n",
    "char1.sayHello()\n",
    "char2.sayHello()\n",
    "        "
   ]
  },
  {
   "cell_type": "markdown",
   "metadata": {},
   "source": [
    "# Friday Project\n",
    "## Creating Blackjack"
   ]
  },
  {
   "cell_type": "code",
   "execution_count": 1,
   "metadata": {},
   "outputs": [
    {
     "name": "stdout",
     "output_type": "stream",
     "text": [
      "\n",
      "Joseph\n",
      "===========\n",
      "4 of Hearts\n",
      "Total = 23\n",
      "Q of Hearts\n",
      "Total = 23\n",
      "9 of Clubs\n",
      "Total = 23\n",
      "\n",
      "Dealer\n",
      "===========\n",
      "- of -\n",
      "Total = 11\n",
      "A of Spades\n",
      "Total = 11\n",
      "You lose!\n"
     ]
    }
   ],
   "source": [
    "# importing necessary functions\n",
    "from random import randint   # allows us to get a random number\n",
    "from IPython.display import clear_output\n",
    "\n",
    "# create the blackjack class, which will hold all game methods and attributes\n",
    "class Blackjack():\n",
    "    def __init__(self):\n",
    "        self.deck = []  # set to an empty list\n",
    "        self.suits = (\"Spades\", \"Hearts\", \"Diamonds\", \"Clubs\")\n",
    "        self.values = (2, 3, 4, 5, 6, 7, 8, 9, 10, \"J\", \"Q\", \"K\", \"A\")\n",
    "\n",
    "    # create a method that creates a deck of 52 cards, each card should be a tuple with a value and suit\n",
    "    def makeDeck(self):\n",
    "        for suit in self.suits:\n",
    "            for value in self.values: \n",
    "                self.deck.append((value, suit))  # ex: (7, \"Hearts\")\n",
    "\n",
    "# method to pop a card from deck using a random index value\n",
    "    def pullCard(self):\n",
    "        return self.deck.pop(randint(0, len(self.deck) - 1))\n",
    "\n",
    "# create a class for dealer and player objects\n",
    "class Player():\n",
    "    def __init__(self, name):\n",
    "        self.name = name\n",
    "        self.hand = []\n",
    "    \n",
    "    # take in a tuple and append it to the hand\n",
    "    def addCard(self, card):\n",
    "        self.hand.append(card)\n",
    "\n",
    "# if not dealer's turn then only show one of his cards, otherwise show all\n",
    "    def showHand(self, dealer_start = True):\n",
    "        print(\"\\n{}\".format(self.name))\n",
    "        print(\"===========\")\n",
    "        for i in range(len(self.hand)):\n",
    "            if self.name == \"Dealer\" and i == 0 and dealer_start:\n",
    "                print(\"- of -\")  # hide first card\n",
    "            else:\n",
    "                card = self.hand[i]\n",
    "                print(\"{} of {}\".format(card[0], card[1]))\n",
    "            print(\"Total = {}\".format(self.calcHand(dealer_start)))\n",
    "    # if not dealer's turn then only give back total of second card\n",
    "    def calcHand(self, dealer_start = True):\n",
    "        total = 0\n",
    "        aces = 0    # calculate aces afterwards\n",
    "        card_values = {1:1, 2:2, 3:3, 4:4, 5:5, 6:6, 7:7, 8:8, 9:9, 10:10, \"J\":10, \"Q\":10, \"K\":10, \"A\":11}\n",
    "        if self.name == \"Dealer\" and dealer_start:\n",
    "            card = self.hand[1]\n",
    "            return card_values[card[0]]\n",
    "        for card in self.hand:\n",
    "            if card in self.hand:\n",
    "                if card[0] == \"A\":\n",
    "                    aces += 1\n",
    "                else:\n",
    "                    total += card_values[card[0]]\n",
    "        for i in range(aces):\n",
    "            if total + 11 > 21:\n",
    "                total += 1\n",
    "            else:\n",
    "                total += 11\n",
    "        return total\n",
    "                \n",
    "game = Blackjack()\n",
    "game.makeDeck()\n",
    "name = input(\"What is your name?\")\n",
    "player = Player(name)\n",
    "dealer = Player(\"Dealer\")\n",
    "\n",
    "# add two cards to the dealer and player hand\n",
    "for i in range(2):\n",
    "    player.addCard(game.pullCard())\n",
    "    dealer.addCard(game.pullCard())\n",
    "\n",
    "# show both hands using method\n",
    "player.showHand()\n",
    "dealer.showHand()\n",
    "player_bust = False # variable to keep track of player going over 21\n",
    "while input (\"Would you like to stay or hit? \").lower() != \"stay\":\n",
    "    clear_output()\n",
    "    # pull card and put imt player's hand\n",
    "    player.addCard(game.pullCard())\n",
    "    # show both hands using method\n",
    "    player.showHand()\n",
    "    dealer.showHand()\n",
    "    # check if over 21\n",
    "    if player.calcHand() > 21:\n",
    "        player_bust = True   # player busted, keep track for later\n",
    "        print(\"You lose!\")   # remove after running correctly\n",
    "        break    # break out of the player's loop\n",
    "# handling the dealer's turn, only run if player didn't bust\n",
    "dealer_bust = False\n",
    "if not player_bust:\n",
    "    while dealer.calcHand(False) < 17:   # pass False to calculate all cards\n",
    "        # pull card and put into player's hands\n",
    "        dealer.addCard(game.pullCard())\n",
    "        # check if over 21\n",
    "        if dealer.calcHand(False) > 21:  # pass False to calculate all cards\n",
    "            dealer_bust = True\n",
    "            break     # break out of the dealer's loop\n",
    "            clear_output()\n",
    "            # show both hands using method\n",
    "            player.showHand()\n",
    "            dealer.showHand(False)   # pass False to calculate and show all cards, even when there are 2\n",
    "            \n",
    "            # calculate a winner\n",
    "            if player_bust:\n",
    "                print(\"You busted, better luck next time!\")\n",
    "            elif dealer_bust:\n",
    "                print(\"The dealer busted, you win!\")\n",
    "            elif dealer.calcHand(False) > player.calcHand():\n",
    "                print(\"Dealer has higher cards, you lose!\")\n",
    "            elif dealer.calcHand(False) < player.calcHand():\n",
    "                print(\"You beat the dealer! Congrats\")\n",
    "            else:\n",
    "                print(\"You pushed, no one wins!\")\n",
    "            "
   ]
  },
  {
   "cell_type": "markdown",
   "metadata": {},
   "source": [
    "## Weekly Exercises"
   ]
  },
  {
   "cell_type": "code",
   "execution_count": 2,
   "metadata": {},
   "outputs": [
    {
     "name": "stdout",
     "output_type": "stream",
     "text": [
      "Thanks for playing!\n"
     ]
    }
   ],
   "source": [
    "# adding a game loop to the friday project that continually plays a new hand until the player types quit\n",
    "# importing necessary functions\n",
    "from random import randint   # allows us to get a random number\n",
    "from IPython.display import clear_output\n",
    "\n",
    "# create the blackjack class, which will hold all game methods and attributes\n",
    "class Blackjack():\n",
    "    def __init__(self):\n",
    "        self.deck = []  # set to an empty list\n",
    "        self.suits = (\"Spades\", \"Hearts\", \"Diamonds\", \"Clubs\")\n",
    "        self.values = (2, 3, 4, 5, 6, 7, 8, 9, 10, \"J\", \"Q\", \"K\", \"A\")\n",
    "\n",
    "    # create a method that creates a deck of 52 cards, each card should be a tuple with a value and suit\n",
    "    def makeDeck(self):\n",
    "        for suit in self.suits:\n",
    "            for value in self.values: \n",
    "                self.deck.append((value, suit))  # ex: (7, \"Hearts\")\n",
    "\n",
    "# method to pop a card from deck using a random index value\n",
    "    def pullCard(self):\n",
    "        return self.deck.pop(randint(0, len(self.deck) - 1))\n",
    "\n",
    "# create a class for dealer and player objects\n",
    "class Player():\n",
    "    def __init__(self, name):\n",
    "        self.name = name\n",
    "        self.hand = []\n",
    "    \n",
    "    # take in a tuple and append it to the hand\n",
    "    def addCard(self, card):\n",
    "        self.hand.append(card)\n",
    "\n",
    "# if not dealer's turn then only show one of his cards, otherwise show all\n",
    "    def showHand(self, dealer_start = True):\n",
    "        print(\"\\n{}\".format(self.name))\n",
    "        print(\"===========\")\n",
    "        for i in range(len(self.hand)):\n",
    "            if self.name == \"Dealer\" and i == 0 and dealer_start:\n",
    "                print(\"- of -\")  # hide first card\n",
    "            else:\n",
    "                card = self.hand[i]\n",
    "                print(\"{} of {}\".format(card[0], card[1]))\n",
    "            print(\"Total = {}\".format(self.calcHand(dealer_start)))\n",
    "    # if not dealer's turn then only give back total of second card\n",
    "    def calcHand(self, dealer_start = True):\n",
    "        total = 0\n",
    "        aces = 0    # calculate aces afterwards\n",
    "        card_values = {1:1, 2:2, 3:3, 4:4, 5:5, 6:6, 7:7, 8:8, 9:9, 10:10, \"J\":10, \"Q\":10, \"K\":10, \"A\":11}\n",
    "        if self.name == \"Dealer\" and dealer_start:\n",
    "            card = self.hand[1]\n",
    "            return card_values[card[0]]\n",
    "        for card in self.hand:\n",
    "            if card in self.hand:\n",
    "                if card[0] == \"A\":\n",
    "                    aces += 1\n",
    "                else:\n",
    "                    total += card_values[card[0]]\n",
    "        for i in range(aces):\n",
    "            if total + 11 > 21:\n",
    "                total += 1\n",
    "            else:\n",
    "                total += 11\n",
    "        return total\n",
    "                \n",
    "game = Blackjack()\n",
    "game.makeDeck()\n",
    "name = input(\"What is your name?\")\n",
    "playing = True\n",
    "\n",
    "# start loop here\n",
    "while playing:\n",
    "    player = Player(name)\n",
    "    dealer = Player(\"Dealer\")\n",
    "\n",
    "# add two cards to the dealer and player hand\n",
    "    for i in range(2):\n",
    "        player.addCard(game.pullCard())\n",
    "        dealer.addCard(game.pullCard())\n",
    "\n",
    "    # show both hands using method\n",
    "    player.showHand()\n",
    "    dealer.showHand()\n",
    "    player_bust = False # variable to keep track of player going over 21\n",
    "    while input (\"Would you like to stay or hit? \").lower() != \"stay\":\n",
    "        clear_output()\n",
    "        # pull card and put imt player's hand\n",
    "        player.addCard(game.pullCard())\n",
    "        # show both hands using method\n",
    "        player.showHand()\n",
    "        dealer.showHand()\n",
    "        # check if over 21\n",
    "        if player.calcHand() > 21:\n",
    "            player_bust = True   # player busted, keep track for later\n",
    "            break    # break out of the player's loop\n",
    "    # handling the dealer's turn, only run if player didn't bust\n",
    "    dealer_bust = False\n",
    "    if not player_bust:\n",
    "        while dealer.calcHand(False) < 17:   # pass False to calculate all cards\n",
    "            # pull card and put into player's hands\n",
    "            dealer.addCard(game.pullCard())\n",
    "            # check if over 21\n",
    "            if dealer.calcHand(False) > 21:  # pass False to calculate all cards\n",
    "                dealer_bust = True\n",
    "                break     # break out of the dealer's loop\n",
    "    clear_output()\n",
    "    # show both hands using method\n",
    "    player.showHand()\n",
    "    dealer.showHand(False)   # pass False to calculate and show all cards, even when there are 2\n",
    "            \n",
    "    # calculate a winner\n",
    "    if player_bust:\n",
    "            print(\"You busted, better luck next time!\")\n",
    "    elif dealer_bust:\n",
    "        print(\"The dealer busted, you win!\")\n",
    "    elif dealer.calcHand(False) > player.calcHand():\n",
    "        print(\"Dealer has higher cards, you lose!\")\n",
    "    elif dealer.calcHand(False) < player.calcHand():\n",
    "        print(\"You beat the dealer! Congrats\")\n",
    "    else:\n",
    "        print(\"You pushed, no one wins!\")\n",
    "    print(\"Type 'quit' to stop playing...\")\n",
    "    ans = input('Would you like to play again? ').lower()\n",
    "    if ans == 'quit':\n",
    "        playing = False\n",
    "    clear_output()\n",
    "print('Thanks for playing!')\n",
    "            "
   ]
  },
  {
   "cell_type": "code",
   "execution_count": 1,
   "metadata": {},
   "outputs": [
    {
     "name": "stdout",
     "output_type": "stream",
     "text": [
      "\n",
      "Connor\n",
      "===========\n",
      "10 of Hearts\n",
      "Total = 26\n",
      "4 of Diamonds\n",
      "Total = 26\n",
      "6 of Clubs\n",
      "Total = 26\n",
      "A of Hearts\n",
      "Total = 26\n",
      "5 of Diamonds\n",
      "Total = 26\n",
      "\n",
      "Dealer\n",
      "===========\n",
      "8 of Diamonds\n",
      "Total = 17\n",
      "9 of Hearts\n",
      "Total = 17\n",
      "You busted, better luck next time!\n",
      "You ended with $500\n"
     ]
    }
   ],
   "source": [
    "# Using the code from our friday project, add the ability to wager currency in the game. Be sure to track the currency within the player class as the attribute should belong to that object.\n",
    "# importing necessary functions\n",
    "from random import randint   # allows us to get a random number\n",
    "from IPython.display import clear_output\n",
    "\n",
    "# create the blackjack class, which will hold all game methods and attributes\n",
    "class Blackjack():\n",
    "    def __init__(self):\n",
    "        self.deck = []  # set to an empty list\n",
    "        self.suits = (\"Spades\", \"Hearts\", \"Diamonds\", \"Clubs\")\n",
    "        self.values = (2, 3, 4, 5, 6, 7, 8, 9, 10, \"J\", \"Q\", \"K\", \"A\")\n",
    "\n",
    "    # create a method that creates a deck of 52 cards, each card should be a tuple with a value and suit\n",
    "    def makeDeck(self):\n",
    "        for suit in self.suits:\n",
    "            for value in self.values: \n",
    "                self.deck.append((value, suit))  # ex: (7, \"Hearts\")\n",
    "\n",
    "# method to pop a card from deck using a random index value\n",
    "    def pullCard(self):\n",
    "        return self.deck.pop(randint(0, len(self.deck) - 1))\n",
    "\n",
    "# create a class for dealer and player objects\n",
    "class Player():\n",
    "    def __init__(self, name):\n",
    "        self.name = name\n",
    "        self.hand = []\n",
    "        self.currency = 500\n",
    "    def getCurrency(self):\n",
    "        return self.currency\n",
    "    def setCurrency(self, amount, won):\n",
    "        '''\n",
    "        Take in amount to be added or subtracted,\n",
    "        the won parameter will handle whether or not \n",
    "        the player won and should be added or subtracted\n",
    "        '''\n",
    "        if won:\n",
    "            self.currency -= amount\n",
    "            \n",
    "    # take in a tuple and append it to the hand\n",
    "    def addCard(self, card):\n",
    "        self.hand.append(card)\n",
    "\n",
    "# if not dealer's turn then only show one of his cards, otherwise show all\n",
    "    def showHand(self, dealer_start = True):\n",
    "        print(\"\\n{}\".format(self.name))\n",
    "        print(\"===========\")\n",
    "        for i in range(len(self.hand)):\n",
    "            if self.name == \"Dealer\" and i == 0 and dealer_start:\n",
    "                print(\"- of -\")  # hide first card\n",
    "            else:\n",
    "                card = self.hand[i]\n",
    "                print(\"{} of {}\".format(card[0], card[1]))\n",
    "            print(\"Total = {}\".format(self.calcHand(dealer_start)))\n",
    "  \n",
    "    # if not dealer's turn then only give back total of second card\n",
    "    def calcHand(self, dealer_start = True):\n",
    "        total = 0\n",
    "        aces = 0    # calculate aces afterwards\n",
    "        card_values = {1:1, 2:2, 3:3, 4:4, 5:5, 6:6, 7:7, 8:8, 9:9, 10:10, \"J\":10, \"Q\":10, \"K\":10, \"A\":11}\n",
    "        if self.name == \"Dealer\" and dealer_start:\n",
    "            card = self.hand[1]\n",
    "            return card_values[card[0]]\n",
    "        for card in self.hand:\n",
    "            if card in self.hand:\n",
    "                if card[0] == \"A\":\n",
    "                    aces += 1\n",
    "                else:\n",
    "                    total += card_values[card[0]]\n",
    "        for i in range(aces):\n",
    "            if total + 11 > 21:\n",
    "                total += 1\n",
    "            else:\n",
    "                total += 11\n",
    "        return total\n",
    "                \n",
    "game = Blackjack()\n",
    "game.makeDeck()\n",
    "name = input(\"What is your name?\")\n",
    "player = Player(name)\n",
    "dealer = Player(\"Dealer\")\n",
    "\n",
    "# ask player how much they want to wager\n",
    "wager = 0\n",
    "print('You have ${}'.format(player.getCurrency()))\n",
    "while wager == 0 or player.getCurrency() - wager < 0:\n",
    "    # handle getting and converting wager\n",
    "    try:\n",
    "        wager = int(input(\"How much would you like to wager? \"))\n",
    "        # if wager is too much print message\n",
    "        if player.getCurrency()- wager < 0:\n",
    "            print(\"Sorry you don't have that much money. Try again\")\n",
    "    except:\n",
    "        print('Something went wrong, please try again!')\n",
    "        \n",
    "# add two cards to the dealer and player hand\n",
    "for i in range(2):\n",
    "    player.addCard(game.pullCard())\n",
    "    dealer.addCard(game.pullCard())\n",
    "\n",
    "# show both hands using method\n",
    "player.showHand()\n",
    "dealer.showHand()\n",
    "player_bust = False  # variable to keep track of player going over 21\n",
    "while input (\"Would you like to stay or hit? \").lower() != \"stay\":\n",
    "    clear_output()\n",
    "    # pull card and put into player's hand\n",
    "    player.addCard(game.pullCard())\n",
    "    # show both hands using method\n",
    "    player.showHand()\n",
    "    dealer.showHand()\n",
    "    # check if over 21\n",
    "    if player.calcHand() > 21:\n",
    "        player_bust = True   # player busted, keep track for later\n",
    "        print(\"You lose!\")   # remove after running correctly\n",
    "        break    # break out of the player's loop\n",
    "# handling the dealer's turn, only run if player didn't bust\n",
    "dealer_bust = False\n",
    "if not player_bust:\n",
    "    while dealer.calcHand(False) < 17:   # pass False to calculate all cards\n",
    "        # pull card and put into player's hands\n",
    "        dealer.addCard(game.pullCard())\n",
    "        # check if over 21\n",
    "        if dealer.calcHand(False) > 21:  # pass False to calculate all cards\n",
    "            dealer_bust = True\n",
    "            break     # break out of the dealer's loop\n",
    "clear_output()\n",
    "# show both hands using method\n",
    "player.showHand()\n",
    "dealer.showHand(False)   # pass False to calculate and show all cards, even when there are 2\n",
    "            \n",
    "# calculate a winner\n",
    "if player_bust:\n",
    "    print(\"You busted, better luck next time!\")\n",
    "    player.setCurrency(wager, False)\n",
    "elif dealer_bust:\n",
    "    print(\"The dealer busted, you win!\")\n",
    "    player.setCurrency(wager, True)\n",
    "elif dealer.calcHand(False) > player.calcHand():\n",
    "    print(\"Dealer has higher cards, you lose!\")\n",
    "    player.setCurrency(wager, False)\n",
    "elif dealer.calcHand(False) < player.calcHand():\n",
    "    print(\"You beat the dealer! Congrats\")\n",
    "    player.setCurrency(wager, True)\n",
    "else:\n",
    "    print(\"You pushed, no one wins!\")\n",
    "\n",
    "print(\"You ended with ${}\".format(player.getCurrency()))"
   ]
  }
 ],
 "metadata": {
  "kernelspec": {
   "display_name": "Python 3",
   "language": "python",
   "name": "python3"
  },
  "language_info": {
   "codemirror_mode": {
    "name": "ipython",
    "version": 3
   },
   "file_extension": ".py",
   "mimetype": "text/x-python",
   "name": "python",
   "nbconvert_exporter": "python",
   "pygments_lexer": "ipython3",
   "version": "3.8.5"
  }
 },
 "nbformat": 4,
 "nbformat_minor": 4
}

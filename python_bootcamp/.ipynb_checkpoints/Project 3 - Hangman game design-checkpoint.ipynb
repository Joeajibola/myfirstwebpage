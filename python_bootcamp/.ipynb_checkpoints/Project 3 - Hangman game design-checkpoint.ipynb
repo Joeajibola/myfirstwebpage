{
 "cells": [
  {
   "cell_type": "markdown",
   "metadata": {},
   "source": [
    "# Hangman guessing game "
   ]
  },
  {
   "cell_type": "code",
   "execution_count": 4,
   "metadata": {
    "scrolled": true
   },
   "outputs": [
    {
     "name": "stdout",
     "output_type": "stream",
     "text": [
      "You guessed correctly!\n",
      "Congratulations, you guessed my word 'torch' correctly!\n"
     ]
    }
   ],
   "source": [
    "# importing additional functions\n",
    "from random import choice\n",
    "from IPython.display import clear_output\n",
    "\n",
    "# declaring game variables\n",
    "words = ['table', 'chair', 'books', 'torch', 'watch']\n",
    "random_word = choice(words)    # to select a random item from the words list\n",
    "guessed, lives, game_over = [], 6, False  # multi variable declaration\n",
    "\n",
    "# declare a variable to assign an underscore to the length of the selected word\n",
    "guesses = ([\"_ \"] * len(random_word))\n",
    "\n",
    "# main game loop\n",
    "while not game_over: \n",
    "    hidden_word = \"\".join(guesses)\n",
    "    print(\"Your guessed letters: {}\".format(guessed))\n",
    "    print(\"Word to guess: {}\".format(hidden_word))\n",
    "    print(\"Lives: {}\".format(lives))\n",
    "    \n",
    "    # ask the user to guess a letter or quit\n",
    "    ans = input(\"Guess a letter of my word or type quit to exit the game \")\n",
    "    clear_output()\n",
    "    # conditions\n",
    "    if ans == 'quit':\n",
    "        print(\"Thanks for playing. \\n Bye.\")\n",
    "        game_over = True\n",
    "    elif ans in random_word and ans not in guessed:\n",
    "        print(\"You guessed correctly!\")\n",
    "        \n",
    "        # a for loop to add the correctly guessed letter to the hidden word\n",
    "        for i in range(len(random_word)):\n",
    "            if random_word[i] == ans:\n",
    "                guesses[i] = ans\n",
    "    elif ans in guessed:\n",
    "        print(\"You already guessed that letter, try again.\")\n",
    "    else:\n",
    "        print(\"Incorrect, you lost a life.\")\n",
    "        lives -= 1\n",
    "        if lives == 0:\n",
    "            clear_output()\n",
    "    # adding guessed letters to the guessed list\n",
    "    if ans not in guessed:\n",
    "        guessed.append(ans)\n",
    "    \n",
    "    # conditions for guessing all the letters correctly\n",
    "    if random_word == \"\".join(guesses):\n",
    "        print(\"Congratulations, you guessed my word '{}' correctly!\".format(random_word))\n",
    "        game_over = True\n",
    "   \n",
    "    # condition if all lives has been lost\n",
    "    elif lives == 0:\n",
    "        print(\"You lost all your lives \\n Game over\")\n",
    "        print(\"My word is {}\".format(random_word))\n",
    "        game_over = True\n",
    "        \n",
    "        \n",
    "        "
   ]
  },
  {
   "cell_type": "markdown",
   "metadata": {},
   "source": [
    "## Creating the Hangman game using Functions "
   ]
  },
  {
   "cell_type": "code",
   "execution_count": null,
   "metadata": {},
   "outputs": [],
   "source": [
    "# importing necessary functions\n",
    "from IPython.display import clear_output\n",
    "from random import choice\n",
    "# function to declare game variables\n",
    "words = ['table', 'chair', 'books', 'torch', 'watch']\n",
    "random_word = choice(words)    # to select a random item from the words list\n",
    "guessed, lives, game_over = [], 6, False  # multi variable declaration\n",
    "guesses = ([\"_ \"] * len(random_word))\n",
    "hidden_word = \"\".join(guesses)\n",
    "    \n",
    "# a function to display game information\n",
    "def gameInfo():\n",
    "    print(\"Your guessed letters: {}\".format(guessed))\n",
    "    print(\"Word to guess: {}\".format(hidden_word))\n",
    "    print(\"Lives: {}\".format(lives))\n",
    "    \n",
    "# a function to check the user's guess \n",
    "def checkGuess():\n",
    "    lives = 6\n",
    "    game_over = False\n",
    "    while not game_over:\n",
    "        gameInfo()\n",
    "        # ask the user to guess a letter or quit\n",
    "        ans = input(\"Guess a letter of my word or type quit to exit the game \")\n",
    "        clear_output()\n",
    "        if ans == 'quit':\n",
    "            print(\"Thanks for playing. \\n Bye.\")\n",
    "            game_over = True\n",
    "        elif ans in random_word and ans not in guessed:\n",
    "            print(\"You guessed correctly!\")\n",
    "        \n",
    "        # a for loop to add the correctly guessed letter to the hidden word\n",
    "            for i in range(len(random_word)):\n",
    "                if random_word[i] == ans:\n",
    "                    guesses[i] = ans\n",
    "        elif ans in guessed:\n",
    "            print(\"You already guessed that letter, try again.\")\n",
    "        else:\n",
    "            print(\"Incorrect, you lost a life.\")\n",
    "            lives -= 1\n",
    "            if lives == 0:\n",
    "                clear_output()\n",
    "    # adding guessed letters to the guessed list\n",
    "        if ans not in guessed:\n",
    "            guessed.append(ans)\n",
    "    \n",
    "    # conditions for guessing all the letters correctly\n",
    "        if random_word == \"\".join(guesses):\n",
    "            print(\"Congratulations, you guessed my word '{}' correctly!\".format(random_word))\n",
    "            game_over = True\n",
    "   \n",
    "    # condition if all lives has been lost\n",
    "        elif lives == 0:\n",
    "            print(\"You lost all your lives \\n Game over\")\n",
    "            print(\"My word is {}\".format(random_word))\n",
    "            \n",
    "# main game loop function\n",
    "def gamePlay():\n",
    "    game_over = False\n",
    "    checkGuess()\n",
    "gamePlay()    "
   ]
  }
 ],
 "metadata": {
  "kernelspec": {
   "display_name": "Python 3",
   "language": "python",
   "name": "python3"
  },
  "language_info": {
   "codemirror_mode": {
    "name": "ipython",
    "version": 3
   },
   "file_extension": ".py",
   "mimetype": "text/x-python",
   "name": "python",
   "nbconvert_exporter": "python",
   "pygments_lexer": "ipython3",
   "version": "3.8.5"
  }
 },
 "nbformat": 4,
 "nbformat_minor": 4
}

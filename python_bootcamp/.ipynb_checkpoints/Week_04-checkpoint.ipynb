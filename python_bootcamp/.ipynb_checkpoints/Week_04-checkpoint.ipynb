{
 "cells": [
  {
   "cell_type": "markdown",
   "metadata": {},
   "source": [
    "# Monday\n",
    "## Lists\n"
   ]
  },
  {
   "cell_type": "code",
   "execution_count": null,
   "metadata": {},
   "outputs": [],
   "source": [
    "# declaring a list of numbers\n",
    "nums = [5, 10, 15.2, 20]\n",
    "print(nums)"
   ]
  },
  {
   "cell_type": "code",
   "execution_count": 5,
   "metadata": {},
   "outputs": [
    {
     "name": "stdout",
     "output_type": "stream",
     "text": [
      "10\n",
      "15.2\n"
     ]
    }
   ],
   "source": [
    "# accessing elements within a list\n",
    "nums = [5, 10, 15.2, 20]\n",
    "print(nums[1])            # will output the value at index 1 = 10\n",
    "num = nums[2]             # saves index value 2 into num\n",
    "print(num)                # prints value assigned to num"
   ]
  },
  {
   "cell_type": "code",
   "execution_count": 58,
   "metadata": {},
   "outputs": [
    {
     "name": "stdout",
     "output_type": "stream",
     "text": [
      "[4.3, 'word', True]\n"
     ]
    }
   ],
   "source": [
    "# declaring a list of mixed data types\n",
    "num = 4.3\n",
    "data = [num, \"word\", True]        # the power of data collection\n",
    "print(data)"
   ]
  },
  {
   "cell_type": "code",
   "execution_count": 5,
   "metadata": {},
   "outputs": [
    {
     "name": "stdout",
     "output_type": "stream",
     "text": [
      "[5, 'book', [34, 'hello'], True]\n",
      "[34, 'hello']\n"
     ]
    }
   ],
   "source": [
    "# understanding lists within lists\n",
    "data = [5, \"book\", [34, \"hello\"], True]    #lists can hold any type\n",
    "print(data)\n",
    "print(data[2])"
   ]
  },
  {
   "cell_type": "code",
   "execution_count": 7,
   "metadata": {},
   "outputs": [
    {
     "name": "stdout",
     "output_type": "stream",
     "text": [
      "34\n",
      "hello\n",
      "b\n"
     ]
    }
   ],
   "source": [
    "# using double bracket notation to access lists within lists\n",
    "print(data[2][0])        # will output 34\n",
    "inner_list = data[2]     # inner list will equal [34, \"hello\"]\n",
    "print(inner_list[1])     # will output \"hello\"\n",
    "print(data[1][0])        # will output 'b'"
   ]
  },
  {
   "cell_type": "code",
   "execution_count": 9,
   "metadata": {},
   "outputs": [
    {
     "name": "stdout",
     "output_type": "stream",
     "text": [
      "[5, 10, 15, 20]\n",
      "[100, 10, 15, 20]\n"
     ]
    }
   ],
   "source": [
    "# changing values in a list through index\n",
    "data = [5, 10, 15, 20]\n",
    "print(data)\n",
    "data[0] = 100          # change the value at index 0 (i.e 5) to 100\n",
    "print(data)"
   ]
  },
  {
   "cell_type": "code",
   "execution_count": 6,
   "metadata": {},
   "outputs": [
    {
     "name": "stdout",
     "output_type": "stream",
     "text": [
      "a: [5, 10]\t b: [5, 10]\n",
      "a: [20, 10]\t b: [20, 10]\n"
     ]
    }
   ],
   "source": [
    "# understanding how lists are stored\n",
    "a = [5, 10]\n",
    "b = a\n",
    "print(\"a: {}\\t b: {}\".format(a, b))\n",
    "print(\"Location a[0]: {}\\t Location b[0]: {}\".format(id(a[0]), id(b[0])))\n",
    "a[0] = 20          # redeclaring the value of a[0] also changes b[0] \n",
    "print(\"a: {}\\t b: {}\".format(a, b))"
   ]
  },
  {
   "cell_type": "code",
   "execution_count": 59,
   "metadata": {},
   "outputs": [
    {
     "name": "stdout",
     "output_type": "stream",
     "text": [
      "data: [50, 10, 15, 20]\t data_copy: [5, 10, 15, 20]\n",
      "var: [50, 10, 15, 20]\n"
     ]
    }
   ],
   "source": [
    "# using [:] to copy a list\n",
    "data = [5, 10, 15, 20]\n",
    "data_copy = data[:]        # a single colon copies the list\n",
    "data[0] = 50\n",
    "print(\"data: {}\\t data_copy: {}\".format(data, data_copy))\n",
    "\n",
    "# we can also use .copy() to copy a list\n",
    "var = data.copy()\n",
    "print(\"var: {}\".format(var))"
   ]
  },
  {
   "cell_type": "markdown",
   "metadata": {},
   "source": [
    "### Monday Exercises\n"
   ]
  },
  {
   "cell_type": "code",
   "execution_count": 20,
   "metadata": {},
   "outputs": [
    {
     "name": "stdout",
     "output_type": "stream",
     "text": [
      "I like to play football\n",
      "I like to play tennis\n",
      "I like to play basketball\n",
      "I like to play hockey\n",
      "I like to play golf\n"
     ]
    }
   ],
   "source": [
    "# my favorite sports\n",
    "sports = [\"football\", \"tennis\", \"basketball\", \"hockey\", \"golf\"]\n",
    "print(\"I like to play {}\".format(sports[0]))\n",
    "print(\"I like to play {}\".format(sports[1]))\n",
    "print(\"I like to play {}\".format(sports[2]))\n",
    "print(\"I like to play {}\".format(sports[3]))\n",
    "print(\"I like to play {}\".format(sports[4]))"
   ]
  },
  {
   "cell_type": "code",
   "execution_count": 21,
   "metadata": {},
   "outputs": [
    {
     "name": "stdout",
     "output_type": "stream",
     "text": [
      "J A S K\n"
     ]
    }
   ],
   "source": [
    "name = [\"John\", \"Abraham\", 'Sam', 'Kelly']\n",
    "print(name[0][0], name[1][0], name[2][0], name[3][0])"
   ]
  },
  {
   "cell_type": "markdown",
   "metadata": {},
   "source": [
    "## Tuesday\n",
    "### For Loops\n"
   ]
  },
  {
   "cell_type": "code",
   "execution_count": 22,
   "metadata": {},
   "outputs": [
    {
     "name": "stdout",
     "output_type": "stream",
     "text": [
      "Value: 0\n",
      "Value: 1\n",
      "Value: 2\n",
      "Value: 3\n",
      "Value: 4\n"
     ]
    }
   ],
   "source": [
    "# writing your first for loop using range\n",
    "for num in range(5):\n",
    "    print(\"Value: {}\".format(num)) "
   ]
  },
  {
   "cell_type": "code",
   "execution_count": 23,
   "metadata": {},
   "outputs": [
    {
     "name": "stdout",
     "output_type": "stream",
     "text": [
      "Value: 2\n",
      "Value: 4\n",
      "Value: 6\n",
      "Value: 8\n"
     ]
    }
   ],
   "source": [
    "# providing the start, stop, and step for the range function\n",
    "for num in range(2, 10, 2):\n",
    "    print(\"Value: {}\".format(num)) # will print all evens between 2 and 10"
   ]
  },
  {
   "cell_type": "code",
   "execution_count": 2,
   "metadata": {},
   "outputs": [
    {
     "name": "stdout",
     "output_type": "stream",
     "text": [
      "Value: J\n",
      "Value: o\n",
      "Value: h\n",
      "Value: n\n",
      "Value:  \n",
      "Value: S\n",
      "Value: m\n",
      "Value: i\n",
      "Value: t\n",
      "Value: h\n"
     ]
    }
   ],
   "source": [
    "# printing all characters in a name using the 'in' keyword\n",
    "name = \"John Smith\"\n",
    "for letter in name:\n",
    "    print(\"Value: {}\".format(letter))\n",
    "    "
   ]
  },
  {
   "cell_type": "code",
   "execution_count": 3,
   "metadata": {},
   "outputs": [
    {
     "name": "stdout",
     "output_type": "stream",
     "text": [
      "0\n",
      "1\n",
      "2\n",
      "4\n",
      "5\n"
     ]
    }
   ],
   "source": [
    "# using a continue statement with a for loop\n",
    "for num in range(6):\n",
    "    if num == 3:\n",
    "        continue\n",
    "    print(num)"
   ]
  },
  {
   "cell_type": "code",
   "execution_count": 31,
   "metadata": {},
   "outputs": [
    {
     "name": "stdout",
     "output_type": "stream",
     "text": [
      "0\n",
      "1\n",
      "2\n"
     ]
    }
   ],
   "source": [
    "# breaking out of a loop using the 'break' keyword\n",
    "for num in range(5):\n",
    "    if num == 3:\n",
    "        break\n",
    "    print(num)"
   ]
  },
  {
   "cell_type": "code",
   "execution_count": 5,
   "metadata": {},
   "outputs": [],
   "source": [
    "# setting a placeholder using the 'pass' keyword\n",
    "for i in range(5):\n",
    "    # TODO: add code to print number\n",
    "    pass     # pass statement causes the program not to break"
   ]
  },
  {
   "cell_type": "markdown",
   "metadata": {},
   "source": [
    "### Tuesday Exercises"
   ]
  },
  {
   "cell_type": "code",
   "execution_count": 12,
   "metadata": {},
   "outputs": [
    {
     "name": "stdout",
     "output_type": "stream",
     "text": [
      "Value: 3\n",
      "Value: 6\n",
      "Value: 9\n",
      "Value: 12\n",
      "Value: 15\n",
      "Value: 18\n",
      "Value: 21\n",
      "Value: 24\n",
      "Value: 27\n",
      "Value: 30\n",
      "Value: 33\n",
      "Value: 36\n",
      "Value: 39\n",
      "Value: 42\n",
      "Value: 45\n",
      "Value: 48\n",
      "Value: 51\n",
      "Value: 54\n",
      "Value: 57\n",
      "Value: 60\n",
      "Value: 63\n",
      "Value: 66\n",
      "Value: 69\n",
      "Value: 72\n",
      "Value: 75\n",
      "Value: 78\n",
      "Value: 81\n",
      "Value: 84\n",
      "Value: 87\n",
      "Value: 90\n",
      "Value: 93\n",
      "Value: 96\n",
      "Value: 99\n"
     ]
    }
   ],
   "source": [
    "# a for loop that outputs all numbers from 1 to 100 that are divisible by 3\n",
    "for num in range(1, 100):\n",
    "    if num % 3 == 0:\n",
    "        print(\"Value: {}\".format(num))"
   ]
  },
  {
   "cell_type": "code",
   "execution_count": 14,
   "metadata": {},
   "outputs": [
    {
     "name": "stdout",
     "output_type": "stream",
     "text": [
      "What is your name? Emmanuel\n",
      "e\n",
      "a\n",
      "u\n",
      "e\n"
     ]
    }
   ],
   "source": [
    "# a for loop to output all the vowels in a string from user input\n",
    "name = input(\"What is your name? \").lower()\n",
    "for letters in name:\n",
    "    if letters in ['a', 'e', 'i', 'o', 'u']:\n",
    "        print(letters)\n",
    "        \n",
    "    "
   ]
  },
  {
   "cell_type": "markdown",
   "metadata": {},
   "source": [
    "## Wednesday\n",
    "### While loops"
   ]
  },
  {
   "cell_type": "code",
   "execution_count": 67,
   "metadata": {
    "scrolled": true
   },
   "outputs": [
    {
     "name": "stdout",
     "output_type": "stream",
     "text": [
      "10\n",
      "9\n",
      "8\n",
      "7\n",
      "6\n",
      "5\n",
      "4\n",
      "3\n",
      "2\n",
      "1\n"
     ]
    }
   ],
   "source": [
    "# writing your first while loop\n",
    "health = 10\n",
    "while health > 0:\n",
    "    print(health)\n",
    "    health -= 1   # forgetting this line will result in an infinite loop"
   ]
  },
  {
   "cell_type": "code",
   "execution_count": 38,
   "metadata": {},
   "outputs": [
    {
     "name": "stdout",
     "output_type": "stream",
     "text": [
      "0 0\n",
      "0 1\n",
      "0 2\n",
      "1 0\n",
      "1 1\n",
      "1 2\n"
     ]
    }
   ],
   "source": [
    "# using two or more loops together is called a nested loop\n",
    "for i in range(2):   # outside loop\n",
    "    for j in range(3):    # inside loop\n",
    "        print(i, j)"
   ]
  },
  {
   "cell_type": "markdown",
   "metadata": {},
   "source": [
    "### Wednesday Exercises"
   ]
  },
  {
   "cell_type": "code",
   "execution_count": 8,
   "metadata": {},
   "outputs": [
    {
     "name": "stdout",
     "output_type": "stream",
     "text": [
      "Do you like rice? yes\n",
      "Do you like rice? quit\n"
     ]
    }
   ],
   "source": [
    "# a while loop that continues to ask for user input until they type quit\n",
    "while True:\n",
    "    ans = input(\"Do you like rice? \")\n",
    "    if ans == \"quit\":\n",
    "        break\n",
    "    "
   ]
  },
  {
   "cell_type": "code",
   "execution_count": 16,
   "metadata": {},
   "outputs": [
    {
     "name": "stdout",
     "output_type": "stream",
     "text": [
      "Enter any word? this \n",
      "Enter any word? that \n",
      "Enter any word? quit\n"
     ]
    }
   ],
   "source": [
    "# a while loop that continues to ask for user input until they type quit\n",
    "while input(\"Enter any word? \").lower() != 'quit':\n",
    "    pass"
   ]
  },
  {
   "cell_type": "code",
   "execution_count": 17,
   "metadata": {},
   "outputs": [
    {
     "name": "stdout",
     "output_type": "stream",
     "text": [
      "0\n",
      "1\n",
      "2\n"
     ]
    }
   ],
   "source": [
    "# double loop\n",
    "game_over = False\n",
    "while not game_over:\n",
    "    for i in range(5):\n",
    "        if i == 3:\n",
    "            game_over = True\n",
    "            break\n",
    "        else:\n",
    "            print(i)\n",
    "        "
   ]
  },
  {
   "cell_type": "markdown",
   "metadata": {},
   "source": [
    "## Thursday\n",
    "### Working with Lists"
   ]
  },
  {
   "cell_type": "code",
   "execution_count": 52,
   "metadata": {},
   "outputs": [
    {
     "name": "stdout",
     "output_type": "stream",
     "text": [
      "3\n"
     ]
    }
   ],
   "source": [
    "# checking the number of items within a list\n",
    "nums = [5, 10, 15]\n",
    "length = len(nums)      # len() returns an integer value\n",
    "print(length)"
   ]
  },
  {
   "cell_type": "code",
   "execution_count": 18,
   "metadata": {},
   "outputs": [
    {
     "name": "stdout",
     "output_type": "stream",
     "text": [
      "[10, 15]\n",
      "[5, 10]\n",
      "[5, 15]\n",
      "[10, 15]\n"
     ]
    }
   ],
   "source": [
    "# accessing specific items of a list with slices\n",
    "nums = [5, 10, 15]\n",
    "print(nums[1:3])     # this will output items index 1 and 2\n",
    "print(nums[:2])      # this will output index 0 and 1\n",
    "print(nums[::2])     # this will print every other index - 0, 2, 4, etc\n",
    "print(nums[ -2 : ])   # this will output the last two items in the list"
   ]
  },
  {
   "cell_type": "code",
   "execution_count": 58,
   "metadata": {},
   "outputs": [
    {
     "name": "stdout",
     "output_type": "stream",
     "text": [
      "[10, 20, 5]\n"
     ]
    }
   ],
   "source": [
    "# adding an item to the back of a list using append()\n",
    "nums = [10, 20]\n",
    "nums.append(5)\n",
    "print(nums)        # outputs [10, 20, 5]"
   ]
  },
  {
   "cell_type": "code",
   "execution_count": 63,
   "metadata": {},
   "outputs": [
    {
     "name": "stdout",
     "output_type": "stream",
     "text": [
      "['glove', 'ball', 'base']\n",
      "['glove', 'ball', 'bat', 'base']\n"
     ]
    }
   ],
   "source": [
    "# adding a value to the beginning of a list using insert()\n",
    "words = [\"ball\", \"base\"]\n",
    "words.insert(0, \"glove\")   # first number is the index, second is the value\n",
    "print(words)\n",
    "words.insert(2, \"bat\")\n",
    "print(words)"
   ]
  },
  {
   "cell_type": "code",
   "execution_count": 19,
   "metadata": {},
   "outputs": [
    {
     "name": "stdout",
     "output_type": "stream",
     "text": [
      "[5, 'ball']\n",
      "5 \n",
      " ['ball']\n"
     ]
    }
   ],
   "source": [
    "# using pop to remove items and saving to a variable to use later\n",
    "items = [5, \"ball\", True]\n",
    "items.pop()                  # by default removes the last item\n",
    "print(items)\n",
    "removed_item = items.pop(0)  # removes 5 and saves it into the variable\n",
    "print(removed_item, \"\\n\", items)\n"
   ]
  },
  {
   "cell_type": "code",
   "execution_count": 27,
   "metadata": {},
   "outputs": [
    {
     "name": "stdout",
     "output_type": "stream",
     "text": [
      "You removed hockey\n",
      "The remaining list is ['baseball', 'soccer', 'football']\n"
     ]
    }
   ],
   "source": [
    "# using the remove method with a try and except\n",
    "from IPython.display import clear_output\n",
    "sports = [\"baseball\", \"soccer\", \"football\", \"hockey\"]\n",
    "try:\n",
    "    ans = input(\"Which sport do you want to remove? \")\n",
    "    clear_output()\n",
    "    sports.remove(ans)\n",
    "    print(\"You removed {}\" \"\\n\" \"The remaining list is {}\".format(ans, sports))\n",
    "except:\n",
    "    print(\"That item does not exist in the list\")\n",
    "    print(\"The list is {}\".format(sports))\n"
   ]
  },
  {
   "cell_type": "code",
   "execution_count": 31,
   "metadata": {},
   "outputs": [
    {
     "name": "stdout",
     "output_type": "stream",
     "text": [
      "3\n",
      "9\n",
      "17\n",
      "Average: 5.666666666666667\n"
     ]
    }
   ],
   "source": [
    "# using min, max and sum\n",
    "nums = [5, 3, 9]\n",
    "print(min(nums))         # will output the lowest number in the list\n",
    "print(max(nums))         # will output the highest number in the list\n",
    "print(sum(nums))         # will add all numbers in the list and return the sum\n",
    "average = sum(nums)/len(nums) # will output the average of the items in the list\n",
    "print(\"Average: {}\".format(average))"
   ]
  },
  {
   "cell_type": "code",
   "execution_count": 75,
   "metadata": {},
   "outputs": [
    {
     "name": "stdout",
     "output_type": "stream",
     "text": [
      "Original list: [5, 8, 0, 2]\n",
      "Sorted list: [0, 2, 5, 8]\n"
     ]
    }
   ],
   "source": [
    "# using sorted on lists for numerical and alphabetical data\n",
    "nums = [5, 8, 0, 2]\n",
    "sorted_nums = sorted(nums)    # save to a new variable to use later\n",
    "print(\"Original list: {}\" \"\\n\" \"Sorted list: {}\".format(nums, sorted_nums) ) # the original and newly sorted list is printed out"
   ]
  },
  {
   "cell_type": "code",
   "execution_count": 76,
   "metadata": {},
   "outputs": [
    {
     "name": "stdout",
     "output_type": "stream",
     "text": [
      "[0, 3, 5, 8]\n"
     ]
    }
   ],
   "source": [
    "# sorting a list with .sort() in place\n",
    "nums = [5, 0, 8, 3]\n",
    "nums.sort()           # alters the original variable directly\n",
    "print(nums)"
   ]
  },
  {
   "cell_type": "code",
   "execution_count": 78,
   "metadata": {},
   "outputs": [
    {
     "name": "stdout",
     "output_type": "stream",
     "text": [
      "found\n",
      "not found\n"
     ]
    }
   ],
   "source": [
    "# using conditional statements on a list\n",
    "names = [\"Jack\", \"Robert\", \"Mary\"]\n",
    "if \"Mary\" in names:\n",
    "    print(\"found\")          # will run since mary is in the list\n",
    "if \"Jimmy\" not in names:\n",
    "    print(\"not found\")      # will run since jimmy is not in the list"
   ]
  },
  {
   "cell_type": "code",
   "execution_count": 33,
   "metadata": {},
   "outputs": [
    {
     "name": "stdout",
     "output_type": "stream",
     "text": [
      "empty\n"
     ]
    }
   ],
   "source": [
    "# using conditionals to see if a list is empty\n",
    "nums = []\n",
    "if not nums:        # could also say 'if nums == []'\n",
    "    print(\"empty\")\n",
    "    "
   ]
  },
  {
   "cell_type": "code",
   "execution_count": 80,
   "metadata": {},
   "outputs": [
    {
     "name": "stdout",
     "output_type": "stream",
     "text": [
      "baseball\n",
      "Hockey\n",
      "Football\n",
      "basketball\n"
     ]
    }
   ],
   "source": [
    "# using a for loop to print all items in a list\n",
    "sports = [ \"baseball\", \"Hockey\", \"Football\", \"basketball\" ]\n",
    "for sport in sports:\n",
    "    print(sport)"
   ]
  },
  {
   "cell_type": "code",
   "execution_count": 83,
   "metadata": {},
   "outputs": [
    {
     "name": "stdout",
     "output_type": "stream",
     "text": [
      "['Jack', 'Robert']\n"
     ]
    }
   ],
   "source": [
    "# using the while loop to remove a certain value\n",
    "names = [ \"Bob\", \"Jack\", \"Bob\", \"Robert\" ]\n",
    "while \"Bob\" in names:\n",
    "    names.remove(\"Bob\")      # removes all instances of \"Bob\"\n",
    "print(names)"
   ]
  },
  {
   "cell_type": "markdown",
   "metadata": {},
   "source": [
    "### Thursday Exercises"
   ]
  },
  {
   "cell_type": "code",
   "execution_count": 1,
   "metadata": {},
   "outputs": [
    {
     "name": "stdout",
     "output_type": "stream",
     "text": [
      "['Kenny', 'Bob', 'Amanda']\n"
     ]
    }
   ],
   "source": [
    "# Removing all duplicates using the .count() and .remove()  method\n",
    "names = ['Bob', 'Kenny', 'Amanda', 'Bob', 'Amanda']\n",
    "for x in names:\n",
    "    if names.count(x) > 1:     # checks for the duplicate elements\n",
    "        names.remove(x)        # removes the duplicates\n",
    "print(names)           # prints out the lists without the duplicates\n"
   ]
  },
  {
   "cell_type": "code",
   "execution_count": 36,
   "metadata": {},
   "outputs": [
    {
     "name": "stdout",
     "output_type": "stream",
     "text": [
      "['Bob', 'Amanda', 'Kenny']\n"
     ]
    }
   ],
   "source": [
    "# Removing all duplicates using the set() and list()  method\n",
    "names = ['Bob', 'Kenny', 'Amanda', 'Bob', 'Amanda']\n",
    "names = list(set(names))\n",
    "print(names)\n"
   ]
  },
  {
   "cell_type": "code",
   "execution_count": 46,
   "metadata": {
    "scrolled": true
   },
   "outputs": [
    {
     "name": "stdout",
     "output_type": "stream",
     "text": [
      "yam\n",
      "rice\n",
      "beans\n",
      "semo\n"
     ]
    }
   ],
   "source": [
    "# use a while loop to continually ask a user to input a word,add the word to a list and print out the list when they type quit\n",
    "from IPython.display import clear_output\n",
    "foods = []\n",
    "ans = False\n",
    "while True:\n",
    "    ans = input('List the foods you like? ')\n",
    "    clear_output()\n",
    "    if ans == 'quit':\n",
    "        break\n",
    "    else:\n",
    "        foods.append(ans)\n",
    "for i in foods:\n",
    "        print(i)"
   ]
  },
  {
   "cell_type": "markdown",
   "metadata": {},
   "source": [
    "# Friday Project: Creating Hangman"
   ]
  },
  {
   "cell_type": "code",
   "execution_count": 50,
   "metadata": {},
   "outputs": [
    {
     "name": "stdout",
     "output_type": "stream",
     "text": [
      "Thanks for playing.\n"
     ]
    }
   ],
   "source": [
    "# importing additional functions\n",
    "from random import choice    \n",
    "from IPython.display import clear_output\n",
    "\n",
    "# declare game variables \n",
    "words = ['tree', 'basketball', 'chair', 'paper', 'python']\n",
    "word = choice(words)      # randomly chooses a word from the words list\n",
    "guessed, lives, game_over = [], 7, False   # multi variable assignment\n",
    "\n",
    "# create a list of underscores to the length of the word\n",
    "guesses = [\"_\"] * len(word)\n",
    "\n",
    "# create main game loop\n",
    "while not game_over:\n",
    "    # output game information\n",
    "    hidden_word = \" \".join(guesses)\n",
    "    print(\"Your guessed letters: {}\".format(guessed))\n",
    "    print(\"Word to guess: {}\".format(hidden_word))\n",
    "    print(\"Lives: {}\".format(lives))\n",
    "   \n",
    "    ans = input(\"Type quit or guess a letter: \").lower()\n",
    "    clear_output()       # clear all previous output\n",
    "    \n",
    "    if ans == \"quit\":\n",
    "        print(\"Thanks for playing.\")\n",
    "        game_over = True\n",
    "    \n",
    "    elif ans in word and ans not in guessed:          # check if letter in word\n",
    "        print(\"You guessed correctly!\")\n",
    "    \n",
    "    # create a for loop to change underscore to proper letter\n",
    "        for i in range(len(word)):\n",
    "            if word[i] == ans:     # compares values at indexes\n",
    "                guesses[i] = ans\n",
    "    elif ans in guessed:\n",
    "        print(\"You already guessed that. Try again\")\n",
    "    else:                      # otherwise lose life\n",
    "        lives -= 1\n",
    "        print(\"Incorrect, you lost a life.\") \n",
    "    \n",
    "    if ans not in guessed:\n",
    "        guessed.append(ans)     # add answer to the guessed list\n",
    "    \n",
    "    if lives <= 0:\n",
    "        print(\"You lost all your lives, game over!\")\n",
    "        game_over = True\n",
    "        \n",
    "    elif word == \"\".join(guesses):\n",
    "        print(\"Congratulations, you guessed it correctly!\")\n",
    "        game_over = True"
   ]
  },
  {
   "cell_type": "markdown",
   "metadata": {},
   "source": [
    "# Weekly Challenges"
   ]
  },
  {
   "cell_type": "markdown",
   "metadata": {},
   "source": [
    " ## Pyramids"
   ]
  },
  {
   "cell_type": "code",
   "execution_count": 14,
   "metadata": {},
   "outputs": [
    {
     "name": "stdout",
     "output_type": "stream",
     "text": [
      "       \n",
      "       x\n",
      "      x x\n",
      "     x x x\n",
      "    x x x x\n",
      "   x x x x x\n",
      "  x x x x x x\n"
     ]
    }
   ],
   "source": [
    "# a for loop to print out string in pyramid form\n",
    "row = 7\n",
    "\n",
    "for i in range(row):\n",
    "    print(\" \" * (row - i) + ' x' * i)"
   ]
  },
  {
   "cell_type": "code",
   "execution_count": 16,
   "metadata": {},
   "outputs": [
    {
     "name": "stdout",
     "output_type": "stream",
     "text": [
      "John\n",
      "Amanda\n"
     ]
    }
   ],
   "source": [
    "# a for loop to output only letters inside a string\n",
    "names = ['John', ' ', 'Amanda', 5]\n",
    "for i in names:\n",
    "    if type(i) == str:\n",
    "        if i.strip() != '':\n",
    "            print(i)"
   ]
  },
  {
   "cell_type": "code",
   "execution_count": 17,
   "metadata": {},
   "outputs": [
    {
     "name": "stdout",
     "output_type": "stream",
     "text": [
      "[89.6, 53.6, 111.2, 84.2]\n"
     ]
    }
   ],
   "source": [
    "# a for loop that outputs temperature from celsuis to fahrenheit\n",
    "temps= [32, 12, 44, 29]\n",
    "for i in range(len(temps)):\n",
    "    temps[i] = (9/5) * temps[i] + 32 # using the index of each item to locate it and convert it to fahrenheit\n",
    "print(temps)"
   ]
  }
 ],
 "metadata": {
  "kernelspec": {
   "display_name": "Python 3",
   "language": "python",
   "name": "python3"
  },
  "language_info": {
   "codemirror_mode": {
    "name": "ipython",
    "version": 3
   },
   "file_extension": ".py",
   "mimetype": "text/x-python",
   "name": "python",
   "nbconvert_exporter": "python",
   "pygments_lexer": "ipython3",
   "version": "3.8.5"
  }
 },
 "nbformat": 4,
 "nbformat_minor": 4
}

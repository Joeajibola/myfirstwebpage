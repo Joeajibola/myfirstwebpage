{
 "cells": [
  {
   "cell_type": "markdown",
   "metadata": {},
   "source": [
    "# Weekly Challenge Question"
   ]
  },
  {
   "cell_type": "code",
   "execution_count": 1,
   "metadata": {},
   "outputs": [
    {
     "name": "stdout",
     "output_type": "stream",
     "text": [
      "Enter a word that spells same backwards? madam\n"
     ]
    },
    {
     "data": {
      "text/plain": [
       "True"
      ]
     },
     "execution_count": 1,
     "metadata": {},
     "output_type": "execute_result"
    }
   ],
   "source": [
    "# a function that checks if user input is palindrome(spelt same backwards)\n",
    "ans = input(\"Enter a word that spells same backwards? \")\n",
    "def word(ans):\n",
    "    return True if ans == ans[::-1] else False\n",
    "word(ans)"
   ]
  },
  {
   "cell_type": "markdown",
   "metadata": {},
   "source": [
    "# Monday\n",
    "## Dictionaries"
   ]
  },
  {
   "cell_type": "code",
   "execution_count": 36,
   "metadata": {},
   "outputs": [
    {
     "name": "stdout",
     "output_type": "stream",
     "text": [
      "{}\n",
      "{'name': 'John Smith'}\n",
      "{'name': 'Morty', 'age': 26, 'fav_num': [5, 10, 15]}\n"
     ]
    }
   ],
   "source": [
    "# declaring a dictionary variable\n",
    "empty = {}    # empty dictionary\n",
    "empty = dict()    # also to declare an empty dictionary\n",
    "print(empty)      # outputs an empty dictionary\n",
    "\n",
    "# dictionary with one key/value pair\n",
    "person = {\"name\": \"John Smith\"} \n",
    "name = dict(person)\n",
    "print(name)     # outputs the dictionary person stored in name\n",
    "\n",
    "# dictionary with two key/value pairs\n",
    "customer = {\"name\": \"Morty\", \"age\": 26, \"fav_num\": [5, 10, 15]}\n",
    "print(customer) "
   ]
  },
  {
   "cell_type": "code",
   "execution_count": 22,
   "metadata": {},
   "outputs": [
    {
     "name": "stdout",
     "output_type": "stream",
     "text": [
      "John\n"
     ]
    }
   ],
   "source": [
    "# accessing dictionary information through keys\n",
    "person = {\"name\": \"John\"}\n",
    "print(person[\"name\"])        # access information through the key"
   ]
  },
  {
   "cell_type": "code",
   "execution_count": 28,
   "metadata": {},
   "outputs": [
    {
     "name": "stdout",
     "output_type": "stream",
     "text": [
      "John\n",
      "Age is not available.\n"
     ]
    }
   ],
   "source": [
    "# using the get method to access dictionary information \n",
    "person = {\"name\": \"John\"}\n",
    "print(person.get(\"name\")) # retrieves value of name key as before\n",
    "print(person.get(\"age\", \"Age is not available.\")) \n",
    "# get is a secure way to retrieve information"
   ]
  },
  {
   "cell_type": "code",
   "execution_count": 3,
   "metadata": {},
   "outputs": [
    {
     "name": "stdout",
     "output_type": "stream",
     "text": [
      "baseball\n"
     ]
    }
   ],
   "source": [
    "# storing a list within a dictionary and accessing it\n",
    "data = {\"sports\" : [\"baseball\", \"football\", \"hockey\", \"soccer\"]}\n",
    "print(data[\"sports\"][0]) # first access the key, then the index"
   ]
  },
  {
   "cell_type": "code",
   "execution_count": 37,
   "metadata": {},
   "outputs": [
    {
     "ename": "ValueError",
     "evalue": "dictionary update sequence element #0 has length 8; 2 is required",
     "output_type": "error",
     "traceback": [
      "\u001b[1;31m---------------------------------------------------------------------------\u001b[0m",
      "\u001b[1;31mValueError\u001b[0m                                Traceback (most recent call last)",
      "\u001b[1;32m<ipython-input-37-5a6b578c7844>\u001b[0m in \u001b[0;36m<module>\u001b[1;34m\u001b[0m\n\u001b[0;32m      1\u001b[0m \u001b[1;31m# improperly storing a list within a dictionary\u001b[0m\u001b[1;33m\u001b[0m\u001b[1;33m\u001b[0m\u001b[1;33m\u001b[0m\u001b[0m\n\u001b[0;32m      2\u001b[0m \u001b[0msports\u001b[0m \u001b[1;33m=\u001b[0m \u001b[1;33m[\u001b[0m\u001b[1;34m\"baseball\"\u001b[0m\u001b[1;33m,\u001b[0m \u001b[1;34m\"football\"\u001b[0m\u001b[1;33m,\u001b[0m \u001b[1;34m\"hockey\"\u001b[0m\u001b[1;33m,\u001b[0m \u001b[1;34m\"soccer\"\u001b[0m\u001b[1;33m]\u001b[0m\u001b[1;33m\u001b[0m\u001b[1;33m\u001b[0m\u001b[0m\n\u001b[1;32m----> 3\u001b[1;33m \u001b[0msports_dict\u001b[0m \u001b[1;33m=\u001b[0m \u001b[0mdict\u001b[0m\u001b[1;33m(\u001b[0m\u001b[0msports\u001b[0m\u001b[1;33m)\u001b[0m   \u001b[1;31m# will produce error, no key\u001b[0m\u001b[1;33m\u001b[0m\u001b[1;33m\u001b[0m\u001b[0m\n\u001b[0m",
      "\u001b[1;31mValueError\u001b[0m: dictionary update sequence element #0 has length 8; 2 is required"
     ]
    }
   ],
   "source": [
    "# improperly storing a list within a dictionary \n",
    "sports = [\"baseball\", \"football\", \"hockey\", \"soccer\"]\n",
    "sports_dict = dict(sports)   # will produce error, no key"
   ]
  },
  {
   "cell_type": "code",
   "execution_count": 6,
   "metadata": {},
   "outputs": [
    {
     "name": "stdout",
     "output_type": "stream",
     "text": [
      "{'sports': ['baseball', 'football', 'hockey', 'soccer']}\n"
     ]
    }
   ],
   "source": [
    "# to properly store a list in a dictionary\n",
    "sports = [\"baseball\", \"football\", \"hockey\", \"soccer\"]\n",
    "sports_dict = dict({\"sports\" : sports})\n",
    "print(sports_dict)"
   ]
  },
  {
   "cell_type": "code",
   "execution_count": 49,
   "metadata": {},
   "outputs": [
    {
     "name": "stdout",
     "output_type": "stream",
     "text": [
      "{'name': 'Kirsten'}\n",
      "Kirsten\n"
     ]
    }
   ],
   "source": [
    "# storing a dictionary within a list and accessing it\n",
    "data = [\"John\", \"Dennis\", {\"name\": \"Kirsten\"}]\n",
    "print(data[2])     # the dictionary in index 2 is accessed\n",
    "print(data[2][\"name\"])  # first access the dictionary index, then access the key"
   ]
  },
  {
   "cell_type": "code",
   "execution_count": 52,
   "metadata": {},
   "outputs": [
    {
     "name": "stdout",
     "output_type": "stream",
     "text": [
      "{2018: 108, '2017': 93}\n",
      "108\n"
     ]
    }
   ],
   "source": [
    "# storing a dictionary within a dictionary and accessing it\n",
    "data = {\"team\" : \"Boston Red Sox\", \n",
    "        \"wins\" : {2018: 108, \"2017\": 93}}\n",
    "print(data[\"wins\"])   # will output the dictionary within the wins key\n",
    "print(data[\"wins\"][2018]) # first access the wins key and then the next key"
   ]
  },
  {
   "cell_type": "markdown",
   "metadata": {},
   "source": [
    "### Monday Exercises"
   ]
  },
  {
   "cell_type": "code",
   "execution_count": 58,
   "metadata": {},
   "outputs": [
    {
     "name": "stdout",
     "output_type": "stream",
     "text": [
      "{'name': 'Joseph', 'age': '19'}\n"
     ]
    }
   ],
   "source": [
    "# ask user for input and put input into dictionary then print out\n",
    "from IPython.display import clear_output\n",
    "name = input(\"What is your name? \")\n",
    "age = input(\"What is your age? \")\n",
    "clear_output()\n",
    "person ={\"name\": name, \"age\": age}\n",
    "print(person)"
   ]
  },
  {
   "cell_type": "code",
   "execution_count": 61,
   "metadata": {},
   "outputs": [
    {
     "name": "stdout",
     "output_type": "stream",
     "text": [
      "cheese\n",
      "saussage\n",
      "peppers\n"
     ]
    }
   ],
   "source": [
    "# use a for loop to output all the items within a dictionary\n",
    "pizza = {\"Ingredients\": [\"cheese\", \"saussage\", \"peppers\"] }\n",
    "for i in pizza[\"Ingredients\"]:\n",
    "    print(i)\n"
   ]
  },
  {
   "cell_type": "markdown",
   "metadata": {},
   "source": [
    "## Tuesday\n",
    "### Working with Dictionaries"
   ]
  },
  {
   "cell_type": "code",
   "execution_count": 66,
   "metadata": {},
   "outputs": [
    {
     "name": "stdout",
     "output_type": "stream",
     "text": [
      "{'year': 2018}\n",
      "Year: 2018\t Color: Blue\n",
      "{'year': 2018, 'color': 'Blue'}\n"
     ]
    }
   ],
   "source": [
    "# adding new key/ value pairs to dictionaries\n",
    "car = {\"year\" : 2018}\n",
    "print(car)\n",
    "car['color'] = \"Blue\"\n",
    "print(\"Year: {}\\t Color: {}\".format(car[\"year\"], car[\"color\"]))\n",
    "print(car)"
   ]
  },
  {
   "cell_type": "code",
   "execution_count": 64,
   "metadata": {},
   "outputs": [
    {
     "name": "stdout",
     "output_type": "stream",
     "text": [
      "Year: 2018 \t Color: Red\n"
     ]
    }
   ],
   "source": [
    "# updating the value for a key/value pair that already exists\n",
    "car = {\"year\": 2018, \"color\": \"blue\"}\n",
    "car[\"color\"] = \"Red\"\n",
    "print(\"Year: {} \\t Color: {}\".format(car[\"year\"], car[\"color\"]))"
   ]
  },
  {
   "cell_type": "code",
   "execution_count": 9,
   "metadata": {},
   "outputs": [
    {
     "name": "stdout",
     "output_type": "stream",
     "text": [
      "{}\n"
     ]
    }
   ],
   "source": [
    "# deleting a key/value pair from a dictionary\n",
    "car = {\"year\": 2018}\n",
    "try:\n",
    "    del car[\"year\"]     # deletes the key \"year\" and value 2018\n",
    "    print(car)          # prints out an empty dictionary\n",
    "except:\n",
    "    print(\"That key does not exist.\")"
   ]
  },
  {
   "cell_type": "code",
   "execution_count": 11,
   "metadata": {},
   "outputs": [
    {
     "name": "stdout",
     "output_type": "stream",
     "text": [
      "name\n",
      "John\n",
      "age\n",
      "26\n"
     ]
    }
   ],
   "source": [
    "# looping over a dictionary via the keys\n",
    "person = {\"name\": \"John\", \"age\": 26}\n",
    "for key in person.keys():\n",
    "    print(key)\n",
    "    print(person[key])  # will output the value at the current key"
   ]
  },
  {
   "cell_type": "code",
   "execution_count": 15,
   "metadata": {},
   "outputs": [
    {
     "name": "stdout",
     "output_type": "stream",
     "text": [
      "John\n",
      "26\n"
     ]
    }
   ],
   "source": [
    "# looping over a dictionary via the values\n",
    "person = {\"name\": \"John\", \"age\": 26}\n",
    "for value in person.values():\n",
    "    print(value)"
   ]
  },
  {
   "cell_type": "code",
   "execution_count": 16,
   "metadata": {},
   "outputs": [
    {
     "name": "stdout",
     "output_type": "stream",
     "text": [
      "name: John\n",
      "age: 26\n"
     ]
    }
   ],
   "source": [
    "# looping over a dictionary via the key/value pair\n",
    "person = {\"name\": \"John\", \"age\": 26}\n",
    "for key, value in person.items():\n",
    "    print(\"{}: {}\".format(key, value))"
   ]
  },
  {
   "cell_type": "markdown",
   "metadata": {},
   "source": [
    "## Tuesday Exercises"
   ]
  },
  {
   "cell_type": "code",
   "execution_count": 21,
   "metadata": {
    "scrolled": true
   },
   "outputs": [
    {
     "name": "stdout",
     "output_type": "stream",
     "text": [
      "Name: Joseph\n",
      "Address: Zone 8\n",
      "Number: 08067840564\n"
     ]
    }
   ],
   "source": [
    "# ask for user input, put in an empty dictionary and use a for loop to iterate over it and output the results to the user\n",
    "from IPython.display import clear_output\n",
    "details = {}\n",
    "name = input(\"Your name: \")\n",
    "address = input(\"Your address: \")\n",
    "number = input(\"Your number: \")\n",
    "clear_output()\n",
    "details = {\"Name\": name, \"Address\": address, \"Number\": number}\n",
    "for key, value in details.items():\n",
    "    print(\"{}: {}\".format(key, value))"
   ]
  },
  {
   "cell_type": "code",
   "execution_count": 24,
   "metadata": {},
   "outputs": [
    {
     "ename": "TypeError",
     "evalue": "'set' object is not subscriptable",
     "output_type": "error",
     "traceback": [
      "\u001b[1;31m---------------------------------------------------------------------------\u001b[0m",
      "\u001b[1;31mTypeError\u001b[0m                                 Traceback (most recent call last)",
      "\u001b[1;32m<ipython-input-24-d2cac211c408>\u001b[0m in \u001b[0;36m<module>\u001b[1;34m\u001b[0m\n\u001b[0;32m      1\u001b[0m \u001b[1;31m# what is wrong with the following code\u001b[0m\u001b[1;33m\u001b[0m\u001b[1;33m\u001b[0m\u001b[1;33m\u001b[0m\u001b[0m\n\u001b[0;32m      2\u001b[0m \u001b[0mperson\u001b[0m \u001b[1;33m=\u001b[0m \u001b[1;33m{\u001b[0m\u001b[1;34m'name'\u001b[0m\u001b[1;33m,\u001b[0m \u001b[1;34m'John Smith'\u001b[0m\u001b[1;33m}\u001b[0m\u001b[1;33m\u001b[0m\u001b[1;33m\u001b[0m\u001b[0m\n\u001b[1;32m----> 3\u001b[1;33m \u001b[0mprint\u001b[0m\u001b[1;33m(\u001b[0m\u001b[0mperson\u001b[0m\u001b[1;33m[\u001b[0m\u001b[1;34m'name'\u001b[0m\u001b[1;33m]\u001b[0m\u001b[1;33m)\u001b[0m  \u001b[1;31m# no colon after name to demarcate that \"John Smith\" is a value\u001b[0m\u001b[1;33m\u001b[0m\u001b[1;33m\u001b[0m\u001b[0m\n\u001b[0m\u001b[0;32m      4\u001b[0m \u001b[1;31m# will get error message\u001b[0m\u001b[1;33m\u001b[0m\u001b[1;33m\u001b[0m\u001b[1;33m\u001b[0m\u001b[0m\n",
      "\u001b[1;31mTypeError\u001b[0m: 'set' object is not subscriptable"
     ]
    }
   ],
   "source": [
    "# what is wrong with the following code\n",
    "person = {'name', 'John Smith'}\n",
    "print(person['name'])  # no colon after name to demarcate that \"John Smith\" is a value\n",
    "# will get error message"
   ]
  },
  {
   "cell_type": "markdown",
   "metadata": {},
   "source": [
    "# Wednesday\n",
    "\n",
    "## Tuples, Sets, Frozensets."
   ]
  },
  {
   "cell_type": "code",
   "execution_count": 26,
   "metadata": {},
   "outputs": [
    {
     "name": "stdout",
     "output_type": "stream",
     "text": [
      "<class 'tuple'> <class 'tuple'>\n"
     ]
    },
    {
     "ename": "TypeError",
     "evalue": "'tuple' object does not support item assignment",
     "output_type": "error",
     "traceback": [
      "\u001b[1;31m---------------------------------------------------------------------------\u001b[0m",
      "\u001b[1;31mTypeError\u001b[0m                                 Traceback (most recent call last)",
      "\u001b[1;32m<ipython-input-26-215cd27c4dcb>\u001b[0m in \u001b[0;36m<module>\u001b[1;34m\u001b[0m\n\u001b[0;32m      3\u001b[0m \u001b[0mt2\u001b[0m \u001b[1;33m=\u001b[0m \u001b[1;32mTrue\u001b[0m\u001b[1;33m,\u001b[0m \u001b[1;36m1\u001b[0m                 \u001b[1;31m# without parenthesis\u001b[0m\u001b[1;33m\u001b[0m\u001b[1;33m\u001b[0m\u001b[0m\n\u001b[0;32m      4\u001b[0m \u001b[0mprint\u001b[0m\u001b[1;33m(\u001b[0m\u001b[0mtype\u001b[0m\u001b[1;33m(\u001b[0m\u001b[0mt1\u001b[0m\u001b[1;33m)\u001b[0m\u001b[1;33m,\u001b[0m \u001b[0mtype\u001b[0m\u001b[1;33m(\u001b[0m\u001b[0mt2\u001b[0m\u001b[1;33m)\u001b[0m\u001b[1;33m)\u001b[0m    \u001b[1;31m# both are tuples\u001b[0m\u001b[1;33m\u001b[0m\u001b[1;33m\u001b[0m\u001b[0m\n\u001b[1;32m----> 5\u001b[1;33m \u001b[0mt1\u001b[0m\u001b[1;33m[\u001b[0m\u001b[1;36m0\u001b[0m\u001b[1;33m]\u001b[0m\u001b[1;33m=\u001b[0m \u001b[1;36m1\u001b[0m    \u001b[1;31m# will crash, tuples are immutable(unchangeable) when declared\u001b[0m\u001b[1;33m\u001b[0m\u001b[1;33m\u001b[0m\u001b[0m\n\u001b[0m",
      "\u001b[1;31mTypeError\u001b[0m: 'tuple' object does not support item assignment"
     ]
    }
   ],
   "source": [
    "# declaring a tuple\n",
    "t1 = (\"hello\", 2, \"hello\")   # with parenthesis\n",
    "t2 = True, 1                 # without parenthesis\n",
    "print(type(t1), type(t2))    # both are tuples\n",
    "t1[0]= 1    # will crash, tuples are immutable(unchangeable) when declared\n"
   ]
  },
  {
   "cell_type": "code",
   "execution_count": 31,
   "metadata": {},
   "outputs": [
    {
     "name": "stdout",
     "output_type": "stream",
     "text": [
      "<class 'set'> <class 'set'>\n",
      "{1, 2, 3}\n",
      "{2, 3, 5}\n"
     ]
    }
   ],
   "source": [
    "# declaring a set\n",
    "s1 = set([1, 2, 3, 1])  # uses the set keyword and square brackets\n",
    "s2 = {4, 4, 5}          # uses curly brackets, like dictionary  \n",
    "print(type(s1), type(s2))\n",
    "print(s1)\n",
    "s1.add(5)      # using the add method to add new items to a set\n",
    "s1.remove(1)   # using the remove method to get rid of the value 1\n",
    "print(s1)      # notice when printed it removed the second \"1\" at the end\n"
   ]
  },
  {
   "cell_type": "code",
   "execution_count": 33,
   "metadata": {},
   "outputs": [
    {
     "name": "stdout",
     "output_type": "stream",
     "text": [
      "<class 'frozenset'>\n"
     ]
    }
   ],
   "source": [
    "# declaraing a frozenset\n",
    "fset = frozenset([1, 2, 3, 4])\n",
    "print(type(fset))"
   ]
  },
  {
   "cell_type": "markdown",
   "metadata": {},
   "source": [
    "## Wednesday Exercises"
   ]
  },
  {
   "cell_type": "code",
   "execution_count": 43,
   "metadata": {},
   "outputs": [
    {
     "name": "stdout",
     "output_type": "stream",
     "text": [
      "Pin Number: 8473\n",
      "Pin Number: 6784\n",
      "Pin Number: 2342\n"
     ]
    }
   ],
   "source": [
    "# ask user for input as many pin codes and store in a list initially and then convert the list to frozen set\n",
    "from IPython.display import clear_output\n",
    "pins = []\n",
    "done = False\n",
    "while not done:\n",
    "    ans = input('Enter a pin number or type quit: ').lower()\n",
    "    if ans == 'quit':\n",
    "        clear_output()\n",
    "        done = True\n",
    "        pins = frozenset(pins)\n",
    "        for pin in pins:\n",
    "            print(\"Pin Number: {}\".format(pin))\n",
    "    else:\n",
    "        clear_output()\n",
    "        pins.append(ans)"
   ]
  },
  {
   "cell_type": "code",
   "execution_count": 37,
   "metadata": {},
   "outputs": [
    {
     "name": "stdout",
     "output_type": "stream",
     "text": [
      "{10, 3, 4, 7}\n"
     ]
    }
   ],
   "source": [
    "# convert a list into a set of unique values and print it out\n",
    "num = [3, 4, 3, 7, 10]\n",
    "num = set(num)\n",
    "print(num)"
   ]
  },
  {
   "cell_type": "markdown",
   "metadata": {},
   "source": [
    "## Thursday\n",
    "### Reading & Writing Files"
   ]
  },
  {
   "cell_type": "code",
   "execution_count": 45,
   "metadata": {},
   "outputs": [
    {
     "name": "stdout",
     "output_type": "stream",
     "text": [
      "this is a test\n"
     ]
    }
   ],
   "source": [
    "# opening/creating and writing to a text file\n",
    "f = open(\"test.txt\", \"w+\") # open file in writing and reading mode\n",
    "f.write(\"this is a test\")\n",
    "f.close()\n",
    "# reading from a text file\n",
    "f = open(\"test.txt\", \"r\") \n",
    "data = f.read()\n",
    "f.close()\n",
    "print(data)\n",
    "# mode 'w' will overwrite the entire file, use 'a' for appending"
   ]
  },
  {
   "cell_type": "code",
   "execution_count": 56,
   "metadata": {
    "scrolled": true
   },
   "outputs": [],
   "source": [
    "# opening/creating and writing to a csv file\n",
    "import csv\n",
    "with open(\"test.csv\", mode = 'w', newline = '') as f:\n",
    "    writer = csv.writer(f, delimiter = ',')\n",
    "    writer.writerow([\"Name\", \"City\"])\n",
    "    writer.writerow([\"Craig Lou\", \"Taiwan\"])"
   ]
  },
  {
   "cell_type": "code",
   "execution_count": 58,
   "metadata": {},
   "outputs": [
    {
     "name": "stdout",
     "output_type": "stream",
     "text": [
      "['Name', 'City']\n",
      "['Craig Lou', 'Taiwan']\n"
     ]
    }
   ],
   "source": [
    "# reading from csv files\n",
    "with open(\"test.csv\", mode = \"r\") as f:\n",
    "    reader = csv.reader(f, delimiter = ',')\n",
    "    for row in reader:\n",
    "        print(row)"
   ]
  },
  {
   "cell_type": "markdown",
   "metadata": {},
   "source": [
    "## Thursday Exercises\n"
   ]
  },
  {
   "cell_type": "code",
   "execution_count": 65,
   "metadata": {},
   "outputs": [
    {
     "name": "stdout",
     "output_type": "stream",
     "text": [
      "Your favorite number is 20\n"
     ]
    }
   ],
   "source": [
    "# ask a user for their favorite number and save it into a text file\n",
    "from IPython.display import clear_output\n",
    "ans = input(\"What is your favorite number? \")\n",
    "clear_output()\n",
    "\n",
    "f = open(\"numbers.txt\", \"w+\")  # open file in writing & reading mode\n",
    "f.write('Your favorite number is {}'.format(ans))\n",
    "f.close()\n",
    "f = open(\"numbers.txt\", 'r')\n",
    "data = f.read()\n",
    "print(data)"
   ]
  },
  {
   "cell_type": "code",
   "execution_count": 69,
   "metadata": {},
   "outputs": [
    {
     "name": "stdout",
     "output_type": "stream",
     "text": [
      "['name', 'language']\n",
      "['Dave', 'Python']\n",
      "['Dennis', 'C']\n",
      "['Peter', 'Java']\n",
      "['Jess', 'Python']\n"
     ]
    }
   ],
   "source": [
    "# saving a dictionary into a csv file \n",
    "data = {'name': ['Dave', 'Dennis', 'Peter', 'Jess'],\n",
    "        'language': ['Python', 'C', 'Java', 'Python']}\n",
    "import csv\n",
    "with open('data.csv', mode = \"w\", newline = '') as f:\n",
    "    writer = csv.writer(f, delimiter = ',')\n",
    "    writer.writerow(data.keys())\n",
    "    \n",
    "    for i in range(len(data['name'])):\n",
    "        writer.writerow([data['name'][i], data['language'][i]])\n",
    "        \n",
    "with open('data.csv', mode = 'r') as f:\n",
    "    reader = csv.reader(f, delimiter = ',')\n",
    "    for row in reader:\n",
    "        print(row)\n",
    "    "
   ]
  },
  {
   "cell_type": "markdown",
   "metadata": {},
   "source": [
    "# Friday Project\n",
    "## Creating a user Database with CSV Files"
   ]
  },
  {
   "cell_type": "code",
   "execution_count": 7,
   "metadata": {},
   "outputs": [
    {
     "name": "stdout",
     "output_type": "stream",
     "text": [
      "Thanks for using our software!\n"
     ]
    }
   ],
   "source": [
    "# import all necessary packages to be used\n",
    "import csv\n",
    "from IPython.display import clear_output\n",
    "\n",
    "# handle user registration and writing to csv\n",
    "def registerUser():\n",
    "    with open(\"users.csv\", mode = 'a', newline = '') as f:\n",
    "        writer = csv.writer(f, delimiter = ',')\n",
    "        print(\"To register, please enter your info:\")\n",
    "        email = input(\"E-mail: \")\n",
    "        password = input(\"Password: \")\n",
    "        password2 = input(\"Re-type password: \")\n",
    "        clear_output()\n",
    "        if password == password2:\n",
    "            writer.writerow([email, password])\n",
    "            print(\"You are now registered\")\n",
    "        else:\n",
    "            print(\"Something went wrong. Try again.\")\n",
    "\n",
    "# ask for user info and return true to login or false if incorrect info\n",
    "def loginUser():\n",
    "    print(\"To login, please enter your info:\")\n",
    "    email = input(\"E-mail: \")\n",
    "    password = input(\"Password: \")\n",
    "    clear_output()\n",
    "    with open(\"users.csv\", mode = 'r') as f:\n",
    "        reader = csv.reader(f, delimiter = ',')\n",
    "        for row in reader:\n",
    "            if row == [email, password]:\n",
    "                print(\"You are now logged in!\")\n",
    "                return True\n",
    "    print(\"Something went wrong. Try again.\")\n",
    "    return False\n",
    "\n",
    "# variables for main loop\n",
    "active = True\n",
    "logged_in = False\n",
    "\n",
    "# main loop\n",
    "while active:\n",
    "    if logged_in:\n",
    "        print(\"1. Logout\\n2. Quit\")\n",
    "    else:\n",
    "        print(\"1. Login\\n2. Register\\n3. Quit\")\n",
    "    choice = input(\"What would you like to do? \").lower()\n",
    "    clear_output()\n",
    "    if choice == \"register\" and logged_in == False:\n",
    "        registerUser()\n",
    "    elif choice == \"login\" and logged_in == False:\n",
    "        logged_in = loginUser()\n",
    "    elif choice == 'quit':\n",
    "        active = False\n",
    "        print(\"Thanks for using our software!\")\n",
    "    elif choice == \"logout\" and logged_in == True:\n",
    "        logged_in = False\n",
    "        print(\"You are now logged out.\")\n",
    "    else:\n",
    "        print(\"Sorry, please try again!\")      "
   ]
  },
  {
   "cell_type": "markdown",
   "metadata": {},
   "source": [
    "## Weekly Challenges\n",
    "### Adding change password to the user database project"
   ]
  },
  {
   "cell_type": "code",
   "execution_count": 1,
   "metadata": {},
   "outputs": [
    {
     "name": "stdout",
     "output_type": "stream",
     "text": [
      "Thanks for using our software!\n"
     ]
    }
   ],
   "source": [
    "# adding a function to change password in the user database project\n",
    "# import all necessary packages to be used\n",
    "import csv\n",
    "from IPython.display import clear_output\n",
    "\n",
    "# handle user changing password\n",
    "def changePassword():\n",
    "    '''\n",
    "        This function must confirm email and password,\n",
    "        then read data and save to`local list because\n",
    "        you cannot change a single value, you must save\n",
    "        all data, then overwrite the entire file all together\n",
    "    '''\n",
    "    email = input('Please confirm your e-mail: ')\n",
    "    password = input('Please confirm your current password: ')\n",
    "    emails = []\n",
    "    passwords = []\n",
    "    found = False\n",
    "    \n",
    "    with open('users.csv', mode = 'r') as f:\n",
    "        reader = csv.reader(f, delimiter = ',')\n",
    "        for row in reader:\n",
    "            if row == [email, password]:\n",
    "                found = True\n",
    "            elif row:\n",
    "                emails.append(row[0])\n",
    "                passwords.append([1])\n",
    "    if found:\n",
    "        new_pass = input('What would you like to change your password to? ')\n",
    "        emails.append(email)\n",
    "        passwords.append(new_pass)\n",
    "        \n",
    "        with open('users.csv', mode = 'w') as f:\n",
    "            writer = csv.writer(f, delimiter = ',')\n",
    "            \n",
    "            for i in range(len(emails)):\n",
    "                writer.writerow([emails[i], passwords[i]])\n",
    "    else:\n",
    "        print('Sorry the credentials were incorrect.')\n",
    "# handle user registration and writing to csv\n",
    "def registerUser():\n",
    "    with open(\"users.csv\", mode = 'a', newline = '') as f:\n",
    "        writer = csv.writer(f, delimiter = ',')\n",
    "        print(\"To register, please enter your info:\")\n",
    "        email = input(\"E-mail: \")\n",
    "        password = input(\"Password: \")\n",
    "        password2 = input(\"Re-type password: \")\n",
    "        clear_output()\n",
    "        if password == password2:\n",
    "            writer.writerow([email, password])\n",
    "            print(\"You are now registered\")\n",
    "        else:\n",
    "            print(\"Something went wrong. Try again.\")\n",
    "\n",
    "# ask for user info and return true to login or false if incorrect info\n",
    "def loginUser():\n",
    "    print(\"To login, please enter your info:\")\n",
    "    email = input(\"E-mail: \")\n",
    "    password = input(\"Password: \")\n",
    "    clear_output()\n",
    "    with open(\"users.csv\", mode = 'r') as f:\n",
    "        reader = csv.reader(f, delimiter = ',')\n",
    "        for row in reader:\n",
    "            if row == [email, password]:\n",
    "                print(\"You are now logged in!\")\n",
    "                return True\n",
    "    print(\"Something went wrong. Try again.\")\n",
    "    return False\n",
    "\n",
    "# variables for main loop\n",
    "active = True\n",
    "logged_in = False\n",
    "\n",
    "# main loop\n",
    "while active:\n",
    "    if logged_in:\n",
    "        print(\"1. Logout\\n2. Change Password\\n3. Quit\")\n",
    "    else:\n",
    "        print(\"1. Login\\n2. Register\\n3. Quit\")\n",
    "    choice = input(\"What would you like to do? \").lower()\n",
    "    clear_output()\n",
    "    if choice == \"register\" and logged_in == False:\n",
    "        registerUser()\n",
    "    elif choice == \"login\" and logged_in == False:\n",
    "        logged_in = loginUser()\n",
    "    elif choice == 'quit':\n",
    "        active = False\n",
    "        print(\"Thanks for using our software!\")    \n",
    "    elif choice == \"logout\" and logged_in == True:\n",
    "        logged_in = False\n",
    "        print(\"You are now logged out.\")\n",
    "    elif choice == 'change password' and logged_in == True:\n",
    "        changePassword()\n",
    "    else:\n",
    "        print(\"Sorry, please try again!\")      "
   ]
  },
  {
   "cell_type": "code",
   "execution_count": 3,
   "metadata": {},
   "outputs": [
    {
     "name": "stdout",
     "output_type": "stream",
     "text": [
      "Here are the results so far...\n",
      ": 1\n",
      "beans: 2\n",
      "yam: 1\n",
      "Would you like to add more? no\n"
     ]
    }
   ],
   "source": [
    "# A program that ask users for their favorite food and save the answers to a csv file.\n",
    "def saveFood():\n",
    "    ans = input('What is your favorite food? ')\n",
    "    with open('favorite_food.csv', mode='a', newline = '') as f:\n",
    "        writer = csv.writer(f, delimiter = ',')\n",
    "        writer.writerow([ans])\n",
    "    print('Food added!')\n",
    "def countFood():\n",
    "    food_count = {}\n",
    "    with open('favorite_food.csv', mode='r') as f:\n",
    "        reader = csv.reader(f, delimiter = 'r')\n",
    "        for row in reader:\n",
    "            if row[0].lower() in food_count:\n",
    "                food_count[row[0].lower()] += 1\n",
    "            else:\n",
    "                food_count[row[0].lower()] = 1\n",
    "    return food_count\n",
    "\n",
    "def main():\n",
    "    while input('Would you like to add more? ').lower() != 'no':\n",
    "        saveFood()\n",
    "        clear_output()\n",
    "        print('Here are the results so far...')\n",
    "        food_count = countFood()\n",
    "        for k, v in food_count.items():\n",
    "            print(\"{}: {}\".format(k,v))\n",
    "main()"
   ]
  },
  {
   "cell_type": "code",
   "execution_count": null,
   "metadata": {},
   "outputs": [],
   "source": []
  }
 ],
 "metadata": {
  "kernelspec": {
   "display_name": "Python 3",
   "language": "python",
   "name": "python3"
  },
  "language_info": {
   "codemirror_mode": {
    "name": "ipython",
    "version": 3
   },
   "file_extension": ".py",
   "mimetype": "text/x-python",
   "name": "python",
   "nbconvert_exporter": "python",
   "pygments_lexer": "ipython3",
   "version": "3.8.5"
  }
 },
 "nbformat": 4,
 "nbformat_minor": 4
}

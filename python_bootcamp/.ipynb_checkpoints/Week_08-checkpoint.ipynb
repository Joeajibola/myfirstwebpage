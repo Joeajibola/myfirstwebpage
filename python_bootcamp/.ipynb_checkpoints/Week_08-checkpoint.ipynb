{
 "cells": [
  {
   "cell_type": "markdown",
   "metadata": {},
   "source": [
    "# Monday\n",
    "## List Comprehension"
   ]
  },
  {
   "cell_type": "code",
   "execution_count": 2,
   "metadata": {},
   "outputs": [
    {
     "name": "stdout",
     "output_type": "stream",
     "text": [
      "[0, 1, 2, 3, 4, 5, 6, 7, 8, 9, 10, 11, 12, 13, 14, 15, 16, 17, 18, 19, 20, 21, 22, 23, 24, 25, 26, 27, 28, 29, 30, 31, 32, 33, 34, 35, 36, 37, 38, 39, 40, 41, 42, 43, 44, 45, 46, 47, 48, 49, 50, 51, 52, 53, 54, 55, 56, 57, 58, 59, 60, 61, 62, 63, 64, 65, 66, 67, 68, 69, 70, 71, 72, 73, 74, 75, 76, 77, 78, 79, 80, 81, 82, 83, 84, 85, 86, 87, 88, 89, 90, 91, 92, 93, 94, 95, 96, 97, 98, 99]\n"
     ]
    }
   ],
   "source": [
    "# generate a list of numbers from 0 to 100 using list comprehension\n",
    "nums = [x for x in range(100)]  # generates a list from 0 up to 100\n",
    "print(nums)"
   ]
  },
  {
   "cell_type": "code",
   "execution_count": 4,
   "metadata": {},
   "outputs": [
    {
     "name": "stdout",
     "output_type": "stream",
     "text": [
      "[0, 2, 4, 6, 8]\n"
     ]
    }
   ],
   "source": [
    "# using if statements within list comprehension\n",
    "nums = [x for x in range(10) if x % 2 == 0]  # generates a list of even numbers up to 10\n",
    "print(nums)"
   ]
  },
  {
   "cell_type": "code",
   "execution_count": 5,
   "metadata": {},
   "outputs": [
    {
     "name": "stdout",
     "output_type": "stream",
     "text": [
      "['Even', 'Odd', 'Even', 'Odd', 'Even', 'Odd', 'Even', 'Odd', 'Even', 'Odd']\n"
     ]
    }
   ],
   "source": [
    "# using if/else statements within list comprehension\n",
    "nums = [\"Even\" if x % 2 == 0 else \"Odd\" for x in range(10)] # generates a list of even/odd strings\n",
    "print(nums)"
   ]
  },
  {
   "cell_type": "code",
   "execution_count": 1,
   "metadata": {},
   "outputs": [
    {
     "name": "stdout",
     "output_type": "stream",
     "text": [
      "[4, 16, 36, 64]\n"
     ]
    }
   ],
   "source": [
    "# creating a list of squared numbers from another list of numbers using list comprehension\n",
    "nums = [2, 4, 6, 8]\n",
    "squared_nums = [num**2 for num in nums]  # creates a new list of squared numbers based on nums\n",
    "print(squared_nums)"
   ]
  },
  {
   "cell_type": "code",
   "execution_count": 2,
   "metadata": {},
   "outputs": [
    {
     "name": "stdout",
     "output_type": "stream",
     "text": [
      "{0: 0, 2: 4, 4: 16, 6: 36, 8: 64}\n"
     ]
    }
   ],
   "source": [
    "# creating a dictionary of even numbers and square values using comprehension\n",
    "numbers = [x for x in range(10)]\n",
    "squares = {num : num**2 for num in numbers if num % 2 == 0}\n",
    "print(squares)"
   ]
  },
  {
   "cell_type": "markdown",
   "metadata": {},
   "source": [
    "## Monday Exercises"
   ]
  },
  {
   "cell_type": "code",
   "execution_count": 18,
   "metadata": {},
   "outputs": [
    {
     "name": "stdout",
     "output_type": "stream",
     "text": [
      "[53.6, 69.8, 59.0, 89.6]\n"
     ]
    }
   ],
   "source": [
    "# using list comprehension to convert from degree celsuis to fahrenheit\n",
    "degrees = [12, 21, 15, 32]\n",
    "fahrenheit = [round((9/5)*num + 32, 1) for num in degrees]\n",
    "print(fahrenheit)"
   ]
  },
  {
   "cell_type": "code",
   "execution_count": 24,
   "metadata": {},
   "outputs": [
    {
     "name": "stdout",
     "output_type": "stream",
     "text": [
      "Enter an integer number from 100 and below? 25\n",
      "[25, 50, 75, 100]\n"
     ]
    }
   ],
   "source": [
    "# ask the user to input an integer and generate a list of multiples of that integer with list comprehension\n",
    "ans = int(input(\"Enter an integer number from 100 and below? \"))\n",
    "multiples = [x for x in range(1, 101) if x % ans == 0]\n",
    "print(multiples)"
   ]
  },
  {
   "cell_type": "markdown",
   "metadata": {},
   "source": [
    "# Tuesday\n",
    "## Lambda Functions"
   ]
  },
  {
   "cell_type": "code",
   "execution_count": 26,
   "metadata": {},
   "outputs": [
    {
     "data": {
      "text/plain": [
       "16"
      ]
     },
     "execution_count": 26,
     "metadata": {},
     "output_type": "execute_result"
    }
   ],
   "source": [
    "# using a lambda to square a number\n",
    "(lambda x : x**2)(4)  # takes in 4 and return the number squared "
   ]
  },
  {
   "cell_type": "code",
   "execution_count": 31,
   "metadata": {},
   "outputs": [
    {
     "data": {
      "text/plain": [
       "50"
      ]
     },
     "execution_count": 31,
     "metadata": {},
     "output_type": "execute_result"
    }
   ],
   "source": [
    "# passing multiple arguments into a lambda\n",
    "(lambda x,y : x * y)(10,5)   # x = 10, y = 5 returns the value of 5 * 10"
   ]
  },
  {
   "cell_type": "code",
   "execution_count": 33,
   "metadata": {},
   "outputs": [
    {
     "name": "stdout",
     "output_type": "stream",
     "text": [
      "<function <lambda> at 0x000001D86B426AF0>\n",
      "50\n"
     ]
    }
   ],
   "source": [
    "# saving a lambda function into a variable \n",
    "square = lambda x, y : x * y \n",
    "print(square)\n",
    "result = square(10, 5)  # calls the lambda function stored in the square variable amd returns 5 * 10\n",
    "print(result)"
   ]
  },
  {
   "cell_type": "code",
   "execution_count": 50,
   "metadata": {},
   "outputs": [
    {
     "data": {
      "text/plain": [
       "10"
      ]
     },
     "execution_count": 50,
     "metadata": {},
     "output_type": "execute_result"
    }
   ],
   "source": [
    "# using if else statememts within a lambda to return the greater number\n",
    "(lambda x, y : x if x > y else y)(5, 10) \n"
   ]
  },
  {
   "cell_type": "code",
   "execution_count": 58,
   "metadata": {},
   "outputs": [
    {
     "ename": "TypeError",
     "evalue": "'int' object is not callable",
     "output_type": "error",
     "traceback": [
      "\u001b[1;31m---------------------------------------------------------------------------\u001b[0m",
      "\u001b[1;31mTypeError\u001b[0m                                 Traceback (most recent call last)",
      "\u001b[1;32m<ipython-input-58-f240d862785a>\u001b[0m in \u001b[0;36m<module>\u001b[1;34m\u001b[0m\n\u001b[0;32m      3\u001b[0m     \u001b[1;32mreturn\u001b[0m \u001b[1;32mlambda\u001b[0m \u001b[0mx\u001b[0m \u001b[1;33m:\u001b[0m \u001b[0mx\u001b[0m \u001b[1;33m*\u001b[0m \u001b[0mn\u001b[0m\u001b[1;33m\u001b[0m\u001b[1;33m\u001b[0m\u001b[0m\n\u001b[0;32m      4\u001b[0m \u001b[0mdoubler\u001b[0m \u001b[1;33m=\u001b[0m \u001b[0mmy_func\u001b[0m\u001b[1;33m(\u001b[0m\u001b[1;36m2\u001b[0m\u001b[1;33m)\u001b[0m   \u001b[1;31m# returns equivalent of lambda x : x * 2\u001b[0m\u001b[1;33m\u001b[0m\u001b[1;33m\u001b[0m\u001b[0m\n\u001b[1;32m----> 5\u001b[1;33m \u001b[0mprint\u001b[0m\u001b[1;33m(\u001b[0m\u001b[0mdoubler\u001b[0m\u001b[1;33m(\u001b[0m\u001b[1;36m5\u001b[0m\u001b[1;33m)\u001b[0m\u001b[1;33m)\u001b[0m      \u001b[1;31m# will output 10\u001b[0m\u001b[1;33m\u001b[0m\u001b[1;33m\u001b[0m\u001b[0m\n\u001b[0m\u001b[0;32m      6\u001b[0m \u001b[0mtripler\u001b[0m \u001b[1;33m=\u001b[0m \u001b[0mmy_func\u001b[0m\u001b[1;33m(\u001b[0m\u001b[1;36m3\u001b[0m\u001b[1;33m)\u001b[0m   \u001b[1;31m# will return equivalent of lambda x : x * 3\u001b[0m\u001b[1;33m\u001b[0m\u001b[1;33m\u001b[0m\u001b[0m\n\u001b[0;32m      7\u001b[0m \u001b[0mprint\u001b[0m\u001b[1;33m(\u001b[0m\u001b[0mtripler\u001b[0m\u001b[1;33m(\u001b[0m\u001b[1;36m5\u001b[0m\u001b[1;33m)\u001b[0m\u001b[1;33m)\u001b[0m      \u001b[1;31m# will output 15\u001b[0m\u001b[1;33m\u001b[0m\u001b[1;33m\u001b[0m\u001b[0m\n",
      "\u001b[1;31mTypeError\u001b[0m: 'int' object is not callable"
     ]
    }
   ],
   "source": [
    "# returning a lambda function from another function\n",
    "def my_func(n):\n",
    "    return lambda x : x * n\n",
    "doubler = my_func(2)   # returns equivalent of lambda x : x * 2\n",
    "print(doubler(5))      # will output 10\n",
    "tripler = my_func(3)   # will return equivalent of lambda x : x * 3\n",
    "print(tripler(5))      # will output 15"
   ]
  },
  {
   "cell_type": "markdown",
   "metadata": {},
   "source": [
    "## Tuesday Exercises"
   ]
  },
  {
   "cell_type": "code",
   "execution_count": 63,
   "metadata": {},
   "outputs": [
    {
     "data": {
      "text/plain": [
       "True"
      ]
     },
     "execution_count": 63,
     "metadata": {},
     "output_type": "execute_result"
    }
   ],
   "source": [
    "# fill in the gap\n",
    "(lambda x : True if x > 50 else False)(70)"
   ]
  },
  {
   "cell_type": "code",
   "execution_count": 68,
   "metadata": {},
   "outputs": [
    {
     "data": {
      "text/plain": [
       "32.0"
      ]
     },
     "execution_count": 68,
     "metadata": {},
     "output_type": "execute_result"
    }
   ],
   "source": [
    "# a lambda function to convert from degree celsius to fahrenheit\n",
    "(lambda deg : (9/5) * deg + 32)(0)"
   ]
  },
  {
   "cell_type": "markdown",
   "metadata": {},
   "source": [
    "# Wednesday\n",
    "## Map, Reduce and Filter"
   ]
  },
  {
   "cell_type": "code",
   "execution_count": 5,
   "metadata": {},
   "outputs": [
    {
     "name": "stdout",
     "output_type": "stream",
     "text": [
      "<map object at 0x0000022474291CD0>\n",
      "[54.5, 56.480000000000004, 59.0, 48.56]\n"
     ]
    }
   ],
   "source": [
    "# using the map function without lambda\n",
    "def convertDeg(C):\n",
    "    return (9/5) * C + 32\n",
    "temps = [12.5, 13.6, 15, 9.2]\n",
    "converted_temps = map(convertDeg, temps)   # returns map object\n",
    "print(converted_temps)\n",
    "converted_temps = list(converted_temps)    # type convert map object to list of converted temps\n",
    "print(converted_temps)"
   ]
  },
  {
   "cell_type": "code",
   "execution_count": 7,
   "metadata": {},
   "outputs": [
    {
     "name": "stdout",
     "output_type": "stream",
     "text": [
      "[54.5, 56.480000000000004, 59.0, 48.56]\n"
     ]
    }
   ],
   "source": [
    "# using a map function with lambdas\n",
    "temps = [12.5, 13.6, 15, 9.2]\n",
    "converted_temps = list(map(lambda C: (9/5)*C + 32, temps)) # type convert the map object right away\n",
    "print(converted_temps)"
   ]
  },
  {
   "cell_type": "code",
   "execution_count": 9,
   "metadata": {},
   "outputs": [
    {
     "name": "stdout",
     "output_type": "stream",
     "text": [
      "<filter object at 0x0000022474291B20>\n",
      "[13.6, 15]\n"
     ]
    }
   ],
   "source": [
    "# using the filter function without lambda functions, filter out temps below 55F\n",
    "def filterTemps(C):\n",
    "    converted = (9/5) * C + 32\n",
    "    return True if converted > 55 else False     # use ternary operator\n",
    "temps = [12.5, 13.6, 15, 9.2]\n",
    "filtered_temps = filter(filterTemps, temps)      # returns filter object\n",
    "print(filtered_temps)\n",
    "filtered_temps = list(filtered_temps)    # convert filter object to list of filtered data\n",
    "print(filtered_temps)"
   ]
  },
  {
   "cell_type": "code",
   "execution_count": 3,
   "metadata": {},
   "outputs": [
    {
     "name": "stdout",
     "output_type": "stream",
     "text": [
      "[13.6, 15]\n"
     ]
    }
   ],
   "source": [
    "# using a filter fuinctions with lambda functions, filter out temps below 55F\n",
    "temps = [12.5, 13.6, 15, 9.2]\n",
    "filtered_temps = list(filter(lambda C : True if (9/5) * C + 32 > 55 else False, temps)) # type convert the filter\n",
    "print(filtered_temps)"
   ]
  },
  {
   "cell_type": "code",
   "execution_count": 13,
   "metadata": {},
   "outputs": [
    {
     "name": "stdout",
     "output_type": "stream",
     "text": [
      "24\n"
     ]
    }
   ],
   "source": [
    "# for informational purposes this is how you use the reduce function\n",
    "from functools import reduce \n",
    "nums = [1, 2, 3, 4]\n",
    "result = reduce(lambda a, b : a * b, nums)   # result is 24\n",
    "print(result)"
   ]
  },
  {
   "cell_type": "markdown",
   "metadata": {},
   "source": [
    "## Wednesday Exercises"
   ]
  },
  {
   "cell_type": "code",
   "execution_count": 22,
   "metadata": {},
   "outputs": [
    {
     "name": "stdout",
     "output_type": "stream",
     "text": [
      "['Ryan', 'Paul', 'Kevin Connors']\n"
     ]
    }
   ],
   "source": [
    "# Use a lambda and map function to map over a list of names\n",
    "names = [\" ryan\", \"PAUL\", \"kevin connors \"]\n",
    "names = list(map(lambda name: name.strip().title(), names))\n",
    "print(names)"
   ]
  },
  {
   "cell_type": "code",
   "execution_count": 20,
   "metadata": {},
   "outputs": [
    {
     "name": "stdout",
     "output_type": "stream",
     "text": [
      "['Frank', 'Ripal']\n"
     ]
    }
   ],
   "source": [
    "# use a lambda and filter function to filter out all the names that start letter A\n",
    "names = [\"Amanda\", \"Frank\", \"abby\", \"Ripal\", \"Adam\"]\n",
    "names = list(filter(lambda name: True if name[0].lower() != 'a' else False, names))\n",
    "print(names)"
   ]
  },
  {
   "cell_type": "markdown",
   "metadata": {},
   "source": [
    "# Thursday\n",
    "## Recursive Functions and Memoization"
   ]
  },
  {
   "cell_type": "code",
   "execution_count": 5,
   "metadata": {},
   "outputs": [
    {
     "name": "stdout",
     "output_type": "stream",
     "text": [
      "120\n"
     ]
    }
   ],
   "source": [
    "# writing a factorial using recursive functions\n",
    "def factorial(n):\n",
    "    # set your base case!\n",
    "    if n <= 1:\n",
    "        return 1\n",
    "    else:\n",
    "        return factorial(n-1) * n\n",
    "print(factorial(5))   # the result of 5 * 4 * 3 * 2 * 1"
   ]
  },
  {
   "cell_type": "code",
   "execution_count": 9,
   "metadata": {},
   "outputs": [
    {
     "name": "stdout",
     "output_type": "stream",
     "text": [
      "5\n"
     ]
    }
   ],
   "source": [
    "# writing the recursive fibonacci sequence\n",
    "def fib(n):\n",
    "    if n <= 1:\n",
    "        return n\n",
    "    else:\n",
    "        return fib(n - 1) + fib (n - 2)\n",
    "print(fib(5))      # results in 5\n"
   ]
  },
  {
   "cell_type": "code",
   "execution_count": 2,
   "metadata": {},
   "outputs": [
    {
     "name": "stdout",
     "output_type": "stream",
     "text": [
      "12586269025\n"
     ]
    }
   ],
   "source": [
    "# using memoization with the fibonacci sequence\n",
    "caches = {}      # used to cache values to be used later\n",
    "def fib(n):\n",
    "    if n in caches:\n",
    "        return caches[n]    # return value stored in dictionary\n",
    "    result = 0\n",
    "    # base case\n",
    "    if n <= 1:\n",
    "        result = n\n",
    "    else:\n",
    "        result = fib(n - 1) + fib(n - 2)\n",
    "    caches[n] = result     # save result into dictionary with n as the key.\n",
    "    return result\n",
    "print(fib(50))    # calculates almost instantly"
   ]
  },
  {
   "cell_type": "code",
   "execution_count": 5,
   "metadata": {},
   "outputs": [
    {
     "data": {
      "text/plain": [
       "12586269025"
      ]
     },
     "execution_count": 5,
     "metadata": {},
     "output_type": "execute_result"
    }
   ],
   "source": [
    "# using @lru_cache, Python's default moization/caching technique\n",
    "from functools import lru_cache\n",
    "@lru_cache()      # python's built in memoization/caching system\n",
    "def fib(n):\n",
    "    if n <= 1:\n",
    "        return n\n",
    "    else:\n",
    "        return fib(n - 1) + fib(n - 2)\n",
    "fib(50)      # calculates almost instantly"
   ]
  },
  {
   "cell_type": "markdown",
   "metadata": {},
   "source": [
    "## Thursday Exercises"
   ]
  },
  {
   "cell_type": "code",
   "execution_count": 4,
   "metadata": {},
   "outputs": [
    {
     "name": "stdout",
     "output_type": "stream",
     "text": [
      "815915283247897734345611269596115894272000000000\n"
     ]
    }
   ],
   "source": [
    "# applying the lru_cache built-in decorator to the factorial function that we created previously.\n",
    "from functools import lru_cache\n",
    "@lru_cache(500)\n",
    "def factorial(n):\n",
    "    # set your base case!\n",
    "    if n <= 1:\n",
    "        return 1\n",
    "    else:\n",
    "        return factorial(n - 1) * n\n",
    "print(factorial(40))  # the result of 5*4*3*2*1"
   ]
  },
  {
   "cell_type": "code",
   "execution_count": 10,
   "metadata": {},
   "outputs": [
    {
     "data": {
      "text/plain": [
       "True"
      ]
     },
     "execution_count": 10,
     "metadata": {},
     "output_type": "execute_result"
    }
   ],
   "source": [
    "# Searching data\n",
    "def searchList(aList, num):\n",
    "    result = False\n",
    "    for item in aList:\n",
    "        if item == num:\n",
    "            return True\n",
    "        elif isinstance(item, list):\n",
    "            result = searchList(item, num)\n",
    "    return result\n",
    "\n",
    "searchList([2, 3, [18, 22], 6], 22)"
   ]
  },
  {
   "cell_type": "markdown",
   "metadata": {},
   "source": [
    "# Friday Project\n",
    "## Writing a Binary Search"
   ]
  },
  {
   "cell_type": "code",
   "execution_count": 278,
   "metadata": {},
   "outputs": [
    {
     "name": "stdout",
     "output_type": "stream",
     "text": [
      "[1, 3, 5, 8, 8, 11, 11, 13, 15, 18]\n",
      "True\n"
     ]
    }
   ],
   "source": [
    "# setting up imports and generating a list of random numbers to work with\n",
    "import random\n",
    "\n",
    "nums = [random.randint(0, 20) for i in range(10)] # create a list of ten numbers between 0 and 20\n",
    "\n",
    "def binarySearch(aList, num):\n",
    "    # step 1: sort the list\n",
    "    aList.sort()\n",
    "    # step 6: setup  a loop to repeat steps 2 through 6 until list is empty\n",
    "    while aList:\n",
    "        # step 2: find the middle index\n",
    "        mid = len(aList) // 2    # 2 slashes means floor division - round down to the nearest whole number\n",
    "    \n",
    "        # step 3: check the value at the middle index, if it is equal to num return True\n",
    "        if aList[mid] == num:\n",
    "            return True\n",
    "    \n",
    "        # step 4: check if value is greater, if so, cut off right half of list iusing slicing\n",
    "        elif aList[mid] > num:\n",
    "            aList = aList[ : mid]\n",
    "        \n",
    "        # step 5: check if value is less, if so, cut off the left half of list using slicing\n",
    "        elif aList[mid] < num:\n",
    "            aList = aList[mid + 1 : ]\n",
    "        \n",
    "    # step 7: return False, if it makes it this line it means the list was empty and num wasn't found\n",
    "    return False\n",
    "\n",
    "print(sorted(nums))      # for debugging purposes\n",
    "print(binarySearch(nums, 3))"
   ]
  },
  {
   "cell_type": "markdown",
   "metadata": {},
   "source": [
    "# Challenge Question / Solution"
   ]
  },
  {
   "cell_type": "code",
   "execution_count": 1,
   "metadata": {},
   "outputs": [
    {
     "name": "stdout",
     "output_type": "stream",
     "text": [
      "Type a number: 12\n",
      "That is not a prime number\n"
     ]
    }
   ],
   "source": [
    "# ask user for input, return whether it is prime or not \n",
    "def isPrime(num): \n",
    "    for i in range( 2, int(num**0.5) + 1 ): \n",
    "        if num % i == 0: \n",
    "            return False \n",
    "    else: \n",
    "        return True \n",
    "n = int( input(\"Type a number: \") ) \n",
    "if isPrime(n): \n",
    "    print(\"That is a prime number.\") \n",
    "else: \n",
    "    print(\"That is not a prime number\")"
   ]
  },
  {
   "cell_type": "markdown",
   "metadata": {},
   "source": [
    "# Weekly Exercises"
   ]
  },
  {
   "cell_type": "code",
   "execution_count": 5,
   "metadata": {},
   "outputs": [
    {
     "name": "stdout",
     "output_type": "stream",
     "text": [
      "[0, 4, 6, 7, 9, 11, 18, 18, 19, 20]\n",
      "False\n"
     ]
    }
   ],
   "source": [
    "# Recursive Binary Search\n",
    "import random\n",
    "\n",
    "nums = [random.randint(0, 20) for i in range(10)] # create a list of ten numbers between 0 and 20\n",
    "\n",
    "def binarySearch(aList, num):\n",
    "    # base case\n",
    "    if aList == []:\n",
    "        return False\n",
    "    \n",
    "    aList.sort()\n",
    "        \n",
    "    mid = len(aList) // 2    # 2 slashes means floor division - round down to the nearest whole number\n",
    "    \n",
    "    if aList[mid] == num:\n",
    "        return True\n",
    "    elif aList[mid] > num:\n",
    "        return binarySearch(aList[ : mid], num)\n",
    "        \n",
    "    elif aList[mid] < num:\n",
    "        return binarySearch(aList[ mid + 1 : ], num)\n",
    "\n",
    "print(sorted(nums))      # for debugging purposes\n",
    "print(binarySearch(nums, 3))"
   ]
  },
  {
   "cell_type": "code",
   "execution_count": 13,
   "metadata": {},
   "outputs": [
    {
     "name": "stdout",
     "output_type": "stream",
     "text": [
      "True\n"
     ]
    }
   ],
   "source": [
    "# Case Sensitive Search\n",
    "data = ['a', 22, '3', 'hello', 1022, 4, 'e']\n",
    "\n",
    "def binarySearch(aList, num):\n",
    "    # convert data into strings\n",
    "    for i in range(len(aList)):\n",
    "        aList[i] = str(aList[i])\n",
    "    # sort all strings as you could not sort strings and numbers together\n",
    "    aList.sort()\n",
    "    while aList:\n",
    "        mid = len(aList) // 2\n",
    "        if str(aList[mid]) == str(num):\n",
    "            return True\n",
    "        elif str(aList[mid]) > str(num):\n",
    "            aList = aList[ : mid]\n",
    "        elif str(aList[mid]) < str(num):\n",
    "            aList = aList[mid + 1 : ]\n",
    "    return False\n",
    "print(binarySearch(data, 'hello'))"
   ]
  }
 ],
 "metadata": {
  "kernelspec": {
   "display_name": "Python 3",
   "language": "python",
   "name": "python3"
  },
  "language_info": {
   "codemirror_mode": {
    "name": "ipython",
    "version": 3
   },
   "file_extension": ".py",
   "mimetype": "text/x-python",
   "name": "python",
   "nbconvert_exporter": "python",
   "pygments_lexer": "ipython3",
   "version": "3.8.5"
  }
 },
 "nbformat": 4,
 "nbformat_minor": 4
}

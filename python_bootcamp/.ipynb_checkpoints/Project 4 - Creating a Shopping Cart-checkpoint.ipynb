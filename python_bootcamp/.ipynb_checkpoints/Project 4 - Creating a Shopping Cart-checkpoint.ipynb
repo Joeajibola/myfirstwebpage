{
 "cells": [
  {
   "cell_type": "markdown",
   "metadata": {},
   "source": [
    "# Shopping Cart Project"
   ]
  },
  {
   "cell_type": "code",
   "execution_count": 17,
   "metadata": {},
   "outputs": [
    {
     "name": "stdout",
     "output_type": "stream",
     "text": [
      "Thanks for using our program.\n"
     ]
    }
   ],
   "source": [
    "# importing necessary functions\n",
    "from IPython.display import clear_output\n",
    "# global list variable\n",
    "cart = []\n",
    "\n",
    "# function to add items to the cart\n",
    "def addItem(item):\n",
    "    clear_output()\n",
    "    cart.append(item)\n",
    "    print(\"{} has been added to the cart\".format(item))\n",
    "    \n",
    "# function to remove items from the cart\n",
    "def removeItem(item):\n",
    "    try:\n",
    "        clear_output()\n",
    "        if item.isdigit():\n",
    "            items_removed = cart.pop(int(item) - 1)\n",
    "            print(\"{} has been removed\".format(items_removed))\n",
    "        else:\n",
    "            cart.remove(item)\n",
    "            print(\"{} has been removed from the cart\".format(item))\n",
    "    except:\n",
    "        print(\"{} is not in the cart\".format(item))\n",
    "\n",
    "# function to show items in the cart\n",
    "def showCart():\n",
    "    if cart:\n",
    "        clear_output()\n",
    "        print(\"Here is your cart:\")\n",
    "        for i in range(len(cart)):\n",
    "            print(\"{}) {}\".format(i + 1, cart[i]))\n",
    "    else:\n",
    "        print(\"The cart is empty\")\n",
    "\n",
    "# function to clear the cart\n",
    "def clearCart():\n",
    "    clear_output()\n",
    "    cart.clear()\n",
    "    print(\"Your cart has been cleared\")\n",
    "    \n",
    "# the main loop function\n",
    "def main():\n",
    "    done = False\n",
    "    while not done:\n",
    "        ans = input(\"quit/add/remove/show/clear \").lower()\n",
    "        clear_output()\n",
    "        # user input conditions\n",
    "        if ans == 'quit':\n",
    "            clear_output()\n",
    "            print(\"Thanks for using our program.\")\n",
    "            done = True\n",
    "        elif ans == 'add':\n",
    "            item = input(\"What would you like to add? \").title()\n",
    "            addItem(item)\n",
    "        elif ans == 'remove':\n",
    "            item = input(\"What would you like to remove? \").title()\n",
    "            removeItem(item)\n",
    "        elif ans == 'show':\n",
    "            showCart()\n",
    "        elif ans == 'clear':\n",
    "            clearCart()\n",
    "        else:\n",
    "            print(\"Sorry, {} is not among the options\".format(ans))\n",
    "main()        # run the program    "
   ]
  }
 ],
 "metadata": {
  "kernelspec": {
   "display_name": "Python 3",
   "language": "python",
   "name": "python3"
  },
  "language_info": {
   "codemirror_mode": {
    "name": "ipython",
    "version": 3
   },
   "file_extension": ".py",
   "mimetype": "text/x-python",
   "name": "python",
   "nbconvert_exporter": "python",
   "pygments_lexer": "ipython3",
   "version": "3.8.5"
  }
 },
 "nbformat": 4,
 "nbformat_minor": 4
}
